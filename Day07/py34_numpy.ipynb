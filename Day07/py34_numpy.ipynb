{
 "cells": [
  {
   "attachments": {},
   "cell_type": "markdown",
   "metadata": {},
   "source": [
    "#### Numpy\n",
    "\n",
    "- Pandas : https://pandas.pydata.org/\n",
    "- Numpy : https://numpy.org/\n",
    "- 수치해석, 수학적 처리, 통계 등을 위한 라이브러리(모듈) - Scipy, Pandas, Matplopib 에 쓰인다\n",
    "\n",
    "##### Numpy 설치\n",
    "```python\n",
    "!pip install numpy\n",
    "```"
   ]
  },
  {
   "cell_type": "code",
   "execution_count": 1,
   "metadata": {},
   "outputs": [
    {
     "name": "stdout",
     "output_type": "stream",
     "text": [
      "Collecting pandas\n",
      "  Downloading pandas-2.0.2-cp311-cp311-win_amd64.whl (10.6 MB)\n",
      "                                              0.0/10.6 MB ? eta -:--:--\n",
      "                                              0.1/10.6 MB 2.6 MB/s eta 0:00:04\n",
      "     -                                        0.4/10.6 MB 4.9 MB/s eta 0:00:03\n",
      "     --                                       0.7/10.6 MB 6.8 MB/s eta 0:00:02\n",
      "     ---                                      1.0/10.6 MB 6.6 MB/s eta 0:00:02\n",
      "     ---                                      1.0/10.6 MB 6.0 MB/s eta 0:00:02\n",
      "     ----                                     1.2/10.6 MB 4.4 MB/s eta 0:00:03\n",
      "     -----                                    1.5/10.6 MB 5.1 MB/s eta 0:00:02\n",
      "     -------                                  1.9/10.6 MB 5.5 MB/s eta 0:00:02\n",
      "     --------                                 2.3/10.6 MB 5.8 MB/s eta 0:00:02\n",
      "     -----------                              3.0/10.6 MB 6.8 MB/s eta 0:00:02\n",
      "     ----------------                         4.5/10.6 MB 9.3 MB/s eta 0:00:01\n",
      "     -----------------------                  6.3/10.6 MB 11.5 MB/s eta 0:00:01\n",
      "     ------------------------------           8.1/10.6 MB 13.6 MB/s eta 0:00:01\n",
      "     -------------------------------------   10.1/10.6 MB 15.8 MB/s eta 0:00:01\n",
      "     --------------------------------------  10.6/10.6 MB 17.7 MB/s eta 0:00:01\n",
      "     --------------------------------------- 10.6/10.6 MB 16.8 MB/s eta 0:00:00\n",
      "Requirement already satisfied: python-dateutil>=2.8.2 in c:\\users\\administrator\\appdata\\roaming\\python\\python311\\site-packages (from pandas) (2.8.2)\n",
      "Collecting pytz>=2020.1 (from pandas)\n",
      "  Downloading pytz-2023.3-py2.py3-none-any.whl (502 kB)\n",
      "                                              0.0/502.3 kB ? eta -:--:--\n",
      "     ------------------------------------- 502.3/502.3 kB 32.8 MB/s eta 0:00:00\n",
      "Collecting tzdata>=2022.1 (from pandas)\n",
      "  Downloading tzdata-2023.3-py2.py3-none-any.whl (341 kB)\n",
      "                                              0.0/341.8 kB ? eta -:--:--\n",
      "     ------------------------------------- 341.8/341.8 kB 20.7 MB/s eta 0:00:00\n",
      "Collecting numpy>=1.21.0 (from pandas)\n",
      "  Downloading numpy-1.25.0-cp311-cp311-win_amd64.whl (15.0 MB)\n",
      "                                              0.0/15.0 MB ? eta -:--:--\n",
      "     -----                                    2.2/15.0 MB 71.3 MB/s eta 0:00:01\n",
      "     -----------                              4.3/15.0 MB 55.4 MB/s eta 0:00:01\n",
      "     ----------------                         6.2/15.0 MB 49.7 MB/s eta 0:00:01\n",
      "     ----------------------                   8.5/15.0 MB 49.4 MB/s eta 0:00:01\n",
      "     ---------------------------             10.5/15.0 MB 46.9 MB/s eta 0:00:01\n",
      "     ---------------------------             10.5/15.0 MB 46.9 MB/s eta 0:00:01\n",
      "     ---------------------------             10.5/15.0 MB 46.9 MB/s eta 0:00:01\n",
      "     ---------------------------             10.5/15.0 MB 46.9 MB/s eta 0:00:01\n",
      "     ----------------------------            11.1/15.0 MB 26.2 MB/s eta 0:00:01\n",
      "     ----------------------------------      13.4/15.0 MB 26.2 MB/s eta 0:00:01\n",
      "     --------------------------------------  15.0/15.0 MB 26.2 MB/s eta 0:00:01\n",
      "     --------------------------------------- 15.0/15.0 MB 22.5 MB/s eta 0:00:00\n",
      "Requirement already satisfied: six>=1.5 in c:\\users\\administrator\\appdata\\roaming\\python\\python311\\site-packages (from python-dateutil>=2.8.2->pandas) (1.16.0)\n",
      "Installing collected packages: pytz, tzdata, numpy, pandas\n",
      "Successfully installed numpy-1.25.0 pandas-2.0.2 pytz-2023.3 tzdata-2023.3\n"
     ]
    }
   ],
   "source": [
    "# 현재 버전 확인\n",
    "\n",
    "!pip install pandas\n"
   ]
  },
  {
   "cell_type": "code",
   "execution_count": 3,
   "metadata": {},
   "outputs": [],
   "source": [
    "# import\n",
    "import pandas as pd\n",
    "import numpy as np "
   ]
  },
  {
   "cell_type": "markdown",
   "metadata": {},
   "source": [
    "##### numpy를 쓰는 이유\n",
    "- python 리스트를 만들면(1,000,000건) - 200ms\n",
    "- numpy 배열을 만들면(1,000,000건) - 20ms (8~10배 정도 빠름)"
   ]
  },
  {
   "cell_type": "code",
   "execution_count": 4,
   "metadata": {},
   "outputs": [],
   "source": [
    "py_list = list(range(1_000_000)) # 100만건 리스트 만들기\n"
   ]
  },
  {
   "cell_type": "code",
   "execution_count": 5,
   "metadata": {},
   "outputs": [],
   "source": [
    "np_arr = np.arange(1_000_000)"
   ]
  },
  {
   "cell_type": "code",
   "execution_count": 6,
   "metadata": {},
   "outputs": [
    {
     "name": "stdout",
     "output_type": "stream",
     "text": [
      "142 ms ± 2.97 ms per loop (mean ± std. dev. of 7 runs, 10 loops each)\n"
     ]
    }
   ],
   "source": [
    "# 파이썬 리스트 사용\n",
    "%timeit for _ in range(10): py_list2 = py_list *  2"
   ]
  },
  {
   "cell_type": "code",
   "execution_count": 8,
   "metadata": {},
   "outputs": [
    {
     "name": "stdout",
     "output_type": "stream",
     "text": [
      "12.8 ms ± 84.4 µs per loop (mean ± std. dev. of 7 runs, 100 loops each)\n"
     ]
    }
   ],
   "source": [
    "# np로 리스트 사용\n",
    "%timeit for _ in range(10): np_arr2=np_arr * 2"
   ]
  },
  {
   "attachments": {},
   "cell_type": "markdown",
   "metadata": {},
   "source": [
    "##### 넘파이로 배열생성, 연산 등 "
   ]
  },
  {
   "cell_type": "code",
   "execution_count": 9,
   "metadata": {},
   "outputs": [
    {
     "data": {
      "text/plain": [
       "array([1, 3, 5])"
      ]
     },
     "execution_count": 9,
     "metadata": {},
     "output_type": "execute_result"
    }
   ],
   "source": [
    "# 생성\n",
    "## 1차원 배열\n",
    "np_arr1 = np.array([1, 3, 5])\n",
    "np_arr1"
   ]
  },
  {
   "cell_type": "code",
   "execution_count": 10,
   "metadata": {},
   "outputs": [
    {
     "data": {
      "text/plain": [
       "array([[1, 3, 5],\n",
       "       [5, 9, 7]])"
      ]
     },
     "execution_count": 10,
     "metadata": {},
     "output_type": "execute_result"
    }
   ],
   "source": [
    "# 2차원 배열\n",
    "np_arr2 = np.array([[1,3,5],[5,9,7]])\n",
    "np_arr2"
   ]
  },
  {
   "cell_type": "code",
   "execution_count": 49,
   "metadata": {},
   "outputs": [
    {
     "data": {
      "text/plain": [
       "array([[[1, 3, 5],\n",
       "        [5, 9, 7]],\n",
       "\n",
       "       [[1, 3, 5],\n",
       "        [5, 9, 7]]])"
      ]
     },
     "execution_count": 49,
     "metadata": {},
     "output_type": "execute_result"
    }
   ],
   "source": [
    "# 3차원 배열\n",
    "np_arr3 = np.array([[[1,3,5],[5,9,7]], [[1,3,5],[5,9,7]]])\n",
    "np_arr3"
   ]
  },
  {
   "cell_type": "code",
   "execution_count": 15,
   "metadata": {},
   "outputs": [
    {
     "data": {
      "text/plain": [
       "[1, 3, 5]"
      ]
     },
     "execution_count": 15,
     "metadata": {},
     "output_type": "execute_result"
    }
   ],
   "source": [
    "# 파이썬 기본 리스트(배열)\n",
    "list1 = [1,3,5]\n",
    "list1"
   ]
  },
  {
   "cell_type": "code",
   "execution_count": 16,
   "metadata": {},
   "outputs": [
    {
     "data": {
      "text/plain": [
       "([1, 3, 5], [5, 9, 7])"
      ]
     },
     "execution_count": 16,
     "metadata": {},
     "output_type": "execute_result"
    }
   ],
   "source": [
    "# 파이썬 기본 리스트(배열) : 해당 경우에는 튜플로 1차원 배열이 두개 만들어진다. 넘파이에서는 허용되지 않는다.\n",
    "list2 = [1,3,5],[5,9,7]\n",
    "list2"
   ]
  },
  {
   "cell_type": "code",
   "execution_count": 17,
   "metadata": {},
   "outputs": [
    {
     "data": {
      "text/plain": [
       "array([0., 0., 0., 0.])"
      ]
     },
     "execution_count": 17,
     "metadata": {},
     "output_type": "execute_result"
    }
   ],
   "source": [
    "# zeros(길이) : 길이만큼의 1차원 배열을 전부 0으로 채우는 배열\n",
    "np_arr4 = np.zeros(4)\n",
    "np_arr4"
   ]
  },
  {
   "cell_type": "code",
   "execution_count": 18,
   "metadata": {},
   "outputs": [
    {
     "data": {
      "text/plain": [
       "array([[0., 0., 0.],\n",
       "       [0., 0., 0.]])"
      ]
     },
     "execution_count": 18,
     "metadata": {},
     "output_type": "execute_result"
    }
   ],
   "source": [
    "# zeros([행 , 열]) :\n",
    "np_arr5 = np.zeros([2, 3])\n",
    "np_arr5"
   ]
  },
  {
   "cell_type": "code",
   "execution_count": 24,
   "metadata": {},
   "outputs": [
    {
     "data": {
      "text/plain": [
       "array([[1.26202764, 0.10255047, 0.28079868],\n",
       "       [1.5654729 , 0.18526433, 0.11692328]])"
      ]
     },
     "execution_count": 24,
     "metadata": {},
     "output_type": "execute_result"
    }
   ],
   "source": [
    "np.empty([2, 3])"
   ]
  },
  {
   "cell_type": "code",
   "execution_count": 23,
   "metadata": {},
   "outputs": [
    {
     "data": {
      "text/plain": [
       "array([[ 1.26202764,  0.10255047,  0.28079868],\n",
       "       [ 1.5654729 , -0.18526433, -0.11692328]])"
      ]
     },
     "execution_count": 23,
     "metadata": {},
     "output_type": "execute_result"
    }
   ],
   "source": [
    "# random 랜덤\n",
    "np.random.randn(2,3)"
   ]
  },
  {
   "cell_type": "code",
   "execution_count": 30,
   "metadata": {},
   "outputs": [],
   "source": [
    "# \n",
    "np_arr7 = np.arange(10)"
   ]
  },
  {
   "cell_type": "code",
   "execution_count": 28,
   "metadata": {},
   "outputs": [
    {
     "data": {
      "text/plain": [
       "array([0, 1, 2, 3, 4, 5, 6, 7, 8, 9])"
      ]
     },
     "execution_count": 28,
     "metadata": {},
     "output_type": "execute_result"
    }
   ],
   "source": [
    "# 파이썬에서 리스트를 만든 다음 numpy 형태의 배열로 변경\n",
    "np.array(list(range(10)))"
   ]
  },
  {
   "cell_type": "code",
   "execution_count": 31,
   "metadata": {},
   "outputs": [
    {
     "data": {
      "text/plain": [
       "array([ 2,  3,  4,  5,  6,  7,  8,  9, 10, 11])"
      ]
     },
     "execution_count": 31,
     "metadata": {},
     "output_type": "execute_result"
    }
   ],
   "source": [
    "# 연산 : 각각 2가 더해짐\n",
    "np_arr7 + 2"
   ]
  },
  {
   "cell_type": "code",
   "execution_count": 32,
   "metadata": {},
   "outputs": [
    {
     "data": {
      "text/plain": [
       "array([ 0,  2,  4,  6,  8, 10, 12, 14, 16, 18])"
      ]
     },
     "execution_count": 32,
     "metadata": {},
     "output_type": "execute_result"
    }
   ],
   "source": [
    "# 연산 : 각각 2가 곱해짐\n",
    "np_arr7 * 2"
   ]
  },
  {
   "cell_type": "code",
   "execution_count": 33,
   "metadata": {},
   "outputs": [
    {
     "data": {
      "text/plain": [
       "array([0. , 0.5, 1. , 1.5, 2. , 2.5, 3. , 3.5, 4. , 4.5])"
      ]
     },
     "execution_count": 33,
     "metadata": {},
     "output_type": "execute_result"
    }
   ],
   "source": [
    "# 연산 : 각각 2가 나눠짐\n",
    "np_arr7 / 2"
   ]
  },
  {
   "cell_type": "code",
   "execution_count": 34,
   "metadata": {},
   "outputs": [
    {
     "data": {
      "text/plain": [
       "array([0, 0, 1, 1, 2, 2, 3, 3, 4, 4], dtype=int32)"
      ]
     },
     "execution_count": 34,
     "metadata": {},
     "output_type": "execute_result"
    }
   ],
   "source": [
    "# 연산 : 각각 2로 나눈 몫만 나옴\n",
    "np_arr7 // 2"
   ]
  },
  {
   "cell_type": "code",
   "execution_count": 36,
   "metadata": {},
   "outputs": [
    {
     "data": {
      "text/plain": [
       "array([ 0,  2,  4,  6,  8, 10, 12, 14, 16, 18])"
      ]
     },
     "execution_count": 36,
     "metadata": {},
     "output_type": "execute_result"
    }
   ],
   "source": [
    "# 연산 : \n",
    "np_arr7 + np_arr7"
   ]
  },
  {
   "cell_type": "code",
   "execution_count": 37,
   "metadata": {},
   "outputs": [
    {
     "data": {
      "text/plain": [
       "array([ True,  True,  True,  True,  True, False, False, False, False,\n",
       "       False])"
      ]
     },
     "execution_count": 37,
     "metadata": {},
     "output_type": "execute_result"
    }
   ],
   "source": [
    "# 비교연산 : True /False 두가지로 나옴\n",
    "(np_arr7 + np_arr7) <9"
   ]
  },
  {
   "cell_type": "code",
   "execution_count": 38,
   "metadata": {},
   "outputs": [
    {
     "data": {
      "text/plain": [
       "array([ True,  True,  True,  True,  True,  True,  True,  True,  True,\n",
       "        True])"
      ]
     },
     "execution_count": 38,
     "metadata": {},
     "output_type": "execute_result"
    }
   ],
   "source": [
    "# 비교연산 : True /False 두가지로 나옴\n",
    "(np_arr7 + np_arr7) != 9"
   ]
  },
  {
   "cell_type": "code",
   "execution_count": 39,
   "metadata": {},
   "outputs": [
    {
     "data": {
      "text/plain": [
       "array([ True,  True,  True,  True,  True,  True,  True,  True,  True,\n",
       "        True])"
      ]
     },
     "execution_count": 39,
     "metadata": {},
     "output_type": "execute_result"
    }
   ],
   "source": [
    "# 비교연산 : True /False 두가지로 나옴\n",
    "(np_arr7 + np_arr7) != 9"
   ]
  },
  {
   "attachments": {},
   "cell_type": "markdown",
   "metadata": {},
   "source": [
    "##### 넘파이로 배열 생성 연산 등\n",
    "- 파이썬 리스트는 파이썬 리스트끼리 +랑 *밖에 없음\n",
    "- 넘파이는 다 가능\n"
   ]
  },
  {
   "cell_type": "code",
   "execution_count": 40,
   "metadata": {},
   "outputs": [
    {
     "data": {
      "text/plain": [
       "1"
      ]
     },
     "execution_count": 40,
     "metadata": {},
     "output_type": "execute_result"
    }
   ],
   "source": [
    "# 조회\n",
    "np_arr7[1]"
   ]
  },
  {
   "cell_type": "code",
   "execution_count": 41,
   "metadata": {},
   "outputs": [
    {
     "ename": "IndexError",
     "evalue": "index 10 is out of bounds for axis 0 with size 10",
     "output_type": "error",
     "traceback": [
      "\u001b[1;31m---------------------------------------------------------------------------\u001b[0m",
      "\u001b[1;31mIndexError\u001b[0m                                Traceback (most recent call last)",
      "Cell \u001b[1;32mIn[41], line 2\u001b[0m\n\u001b[0;32m      1\u001b[0m \u001b[39m# 인덱스 크기를 벗어나면 IndexError발생\u001b[39;00m\n\u001b[1;32m----> 2\u001b[0m np_arr7[\u001b[39m10\u001b[39;49m]\n",
      "\u001b[1;31mIndexError\u001b[0m: index 10 is out of bounds for axis 0 with size 10"
     ]
    }
   ],
   "source": [
    "# 인덱스 크기를 벗어나면 IndexError발생\n",
    "np_arr7[10]"
   ]
  },
  {
   "cell_type": "code",
   "execution_count": 42,
   "metadata": {},
   "outputs": [
    {
     "data": {
      "text/plain": [
       "array([0, 1, 2, 3, 4])"
      ]
     },
     "execution_count": 42,
     "metadata": {},
     "output_type": "execute_result"
    }
   ],
   "source": [
    "np_arr7[np_arr7 <5]\n"
   ]
  },
  {
   "cell_type": "code",
   "execution_count": 46,
   "metadata": {},
   "outputs": [
    {
     "data": {
      "text/plain": [
       "[0, 1, 2, 3, 4]"
      ]
     },
     "execution_count": 46,
     "metadata": {},
     "output_type": "execute_result"
    }
   ],
   "source": [
    "# \n",
    "[X for X in range(10) if X <5]"
   ]
  },
  {
   "cell_type": "code",
   "execution_count": 47,
   "metadata": {},
   "outputs": [
    {
     "data": {
      "text/plain": [
       "array([3, 4, 5, 6, 7, 8])"
      ]
     },
     "execution_count": 47,
     "metadata": {},
     "output_type": "execute_result"
    }
   ],
   "source": [
    "np_arr7[3:9] # 뒤에 인덱스는 항상 -1"
   ]
  },
  {
   "cell_type": "code",
   "execution_count": 58,
   "metadata": {},
   "outputs": [
    {
     "data": {
      "text/plain": [
       "7"
      ]
     },
     "execution_count": 58,
     "metadata": {},
     "output_type": "execute_result"
    }
   ],
   "source": [
    "# 2차원 배열에서 값 조회\n",
    "# 2차원 배열\n",
    "np_arr2 = np.array([[1,3,5],[5,9,7]])\n",
    "np_arr2\n",
    "np_arr2[1][2]"
   ]
  },
  {
   "cell_type": "code",
   "execution_count": 59,
   "metadata": {},
   "outputs": [
    {
     "data": {
      "text/plain": [
       "array([100, 100, 100, 100, 100,   5,   6,   7,   8,   9])"
      ]
     },
     "execution_count": 59,
     "metadata": {},
     "output_type": "execute_result"
    }
   ],
   "source": [
    "# 값 변경(치환)\n",
    "np_arr7[np_arr7 < 5] = 100\n",
    "np_arr7"
   ]
  },
  {
   "attachments": {},
   "cell_type": "markdown",
   "metadata": {},
   "source": [
    "##### 속성\n",
    "- shape, type"
   ]
  },
  {
   "cell_type": "code",
   "execution_count": 60,
   "metadata": {},
   "outputs": [
    {
     "data": {
      "text/plain": [
       "(3,)"
      ]
     },
     "execution_count": 60,
     "metadata": {},
     "output_type": "execute_result"
    }
   ],
   "source": [
    "# 1차원 (행 열)\n",
    "# (3,) : 행만 있고 열은 \n",
    "np_arr1.shape"
   ]
  },
  {
   "cell_type": "code",
   "execution_count": 61,
   "metadata": {},
   "outputs": [
    {
     "data": {
      "text/plain": [
       "(2, 3)"
      ]
     },
     "execution_count": 61,
     "metadata": {},
     "output_type": "execute_result"
    }
   ],
   "source": [
    "# 2차원\n",
    "np_arr2.shape"
   ]
  },
  {
   "cell_type": "code",
   "execution_count": 63,
   "metadata": {},
   "outputs": [
    {
     "data": {
      "text/plain": [
       "dtype('int32')"
      ]
     },
     "execution_count": 63,
     "metadata": {},
     "output_type": "execute_result"
    }
   ],
   "source": [
    "np_arr2.dtype"
   ]
  },
  {
   "cell_type": "code",
   "execution_count": 64,
   "metadata": {},
   "outputs": [
    {
     "data": {
      "text/plain": [
       "array([[1, 5],\n",
       "       [3, 9],\n",
       "       [5, 7]])"
      ]
     },
     "execution_count": 64,
     "metadata": {},
     "output_type": "execute_result"
    }
   ],
   "source": [
    "# pivot\n",
    "# 2행 3열을 3행 2열로 치환(피벗)\n",
    "np_arr2.T"
   ]
  },
  {
   "attachments": {},
   "cell_type": "markdown",
   "metadata": {},
   "source": [
    "##### 기타함수"
   ]
  },
  {
   "cell_type": "code",
   "execution_count": 67,
   "metadata": {},
   "outputs": [
    {
     "data": {
      "text/plain": [
       "array([0, 1, 2, 3, 4, 5, 6, 7, 8, 9])"
      ]
     },
     "execution_count": 67,
     "metadata": {},
     "output_type": "execute_result"
    }
   ],
   "source": [
    "np_arr8 = np.arange(10)\n",
    "np_arr8"
   ]
  },
  {
   "cell_type": "code",
   "execution_count": 68,
   "metadata": {},
   "outputs": [
    {
     "data": {
      "text/plain": [
       "4.5"
      ]
     },
     "execution_count": 68,
     "metadata": {},
     "output_type": "execute_result"
    }
   ],
   "source": [
    "np_arr8.mean()"
   ]
  },
  {
   "cell_type": "code",
   "execution_count": 69,
   "metadata": {},
   "outputs": [
    {
     "data": {
      "text/plain": [
       "45"
      ]
     },
     "execution_count": 69,
     "metadata": {},
     "output_type": "execute_result"
    }
   ],
   "source": [
    "np_arr8.sum()"
   ]
  },
  {
   "cell_type": "code",
   "execution_count": 70,
   "metadata": {},
   "outputs": [
    {
     "data": {
      "text/plain": [
       "array([ 0,  1,  3,  6, 10, 15, 21, 28, 36, 45])"
      ]
     },
     "execution_count": 70,
     "metadata": {},
     "output_type": "execute_result"
    }
   ],
   "source": [
    "np_arr8.cumsum()"
   ]
  },
  {
   "cell_type": "code",
   "execution_count": 72,
   "metadata": {},
   "outputs": [
    {
     "data": {
      "text/plain": [
       "array([ 1.58825961, -0.1617473 , -0.37894927,  0.5522909 ,  0.43699056,\n",
       "       -0.3741299 , -1.87302475, -0.00713817,  0.55774284,  0.94571431])"
      ]
     },
     "execution_count": 72,
     "metadata": {},
     "output_type": "execute_result"
    }
   ],
   "source": [
    "np_arr9 = np.random.randn(10)\n",
    "np_arr9"
   ]
  },
  {
   "cell_type": "code",
   "execution_count": 73,
   "metadata": {},
   "outputs": [],
   "source": [
    "np_arr9.sort() #정렬"
   ]
  },
  {
   "cell_type": "code",
   "execution_count": 74,
   "metadata": {},
   "outputs": [
    {
     "data": {
      "text/plain": [
       "array([-1.87302475, -0.37894927, -0.3741299 , -0.1617473 , -0.00713817,\n",
       "        0.43699056,  0.5522909 ,  0.55774284,  0.94571431,  1.58825961])"
      ]
     },
     "execution_count": 74,
     "metadata": {},
     "output_type": "execute_result"
    }
   ],
   "source": [
    "np_arr9"
   ]
  },
  {
   "cell_type": "code",
   "execution_count": 75,
   "metadata": {},
   "outputs": [
    {
     "data": {
      "text/plain": [
       "array([ 1.58825961,  0.94571431,  0.55774284,  0.5522909 ,  0.43699056,\n",
       "       -0.00713817, -0.1617473 , -0.3741299 , -0.37894927, -1.87302475])"
      ]
     },
     "execution_count": 75,
     "metadata": {},
     "output_type": "execute_result"
    }
   ],
   "source": [
    "# 역정렬 \n",
    "-np.sort(-np_arr9)"
   ]
  },
  {
   "cell_type": "markdown",
   "metadata": {},
   "source": [
    "##### 테스트용 데이터프레임 예제"
   ]
  },
  {
   "cell_type": "code",
   "execution_count": 85,
   "metadata": {},
   "outputs": [
    {
     "data": {
      "text/html": [
       "<div>\n",
       "<style scoped>\n",
       "    .dataframe tbody tr th:only-of-type {\n",
       "        vertical-align: middle;\n",
       "    }\n",
       "\n",
       "    .dataframe tbody tr th {\n",
       "        vertical-align: top;\n",
       "    }\n",
       "\n",
       "    .dataframe thead th {\n",
       "        text-align: right;\n",
       "    }\n",
       "</style>\n",
       "<table border=\"1\" class=\"dataframe\">\n",
       "  <thead>\n",
       "    <tr style=\"text-align: right;\">\n",
       "      <th></th>\n",
       "      <th>class</th>\n",
       "      <th>year</th>\n",
       "      <th>month</th>\n",
       "      <th>val1</th>\n",
       "      <th>val2</th>\n",
       "      <th>val3</th>\n",
       "    </tr>\n",
       "  </thead>\n",
       "  <tbody>\n",
       "    <tr>\n",
       "      <th>0</th>\n",
       "      <td>A</td>\n",
       "      <td>2011</td>\n",
       "      <td>9</td>\n",
       "      <td>3</td>\n",
       "      <td>665</td>\n",
       "      <td>18186</td>\n",
       "    </tr>\n",
       "    <tr>\n",
       "      <th>1</th>\n",
       "      <td>C</td>\n",
       "      <td>2017</td>\n",
       "      <td>3</td>\n",
       "      <td>9</td>\n",
       "      <td>407</td>\n",
       "      <td>12997</td>\n",
       "    </tr>\n",
       "    <tr>\n",
       "      <th>2</th>\n",
       "      <td>C</td>\n",
       "      <td>2012</td>\n",
       "      <td>7</td>\n",
       "      <td>10</td>\n",
       "      <td>472</td>\n",
       "      <td>13561</td>\n",
       "    </tr>\n",
       "    <tr>\n",
       "      <th>3</th>\n",
       "      <td>E</td>\n",
       "      <td>2017</td>\n",
       "      <td>12</td>\n",
       "      <td>1</td>\n",
       "      <td>338</td>\n",
       "      <td>19672</td>\n",
       "    </tr>\n",
       "    <tr>\n",
       "      <th>4</th>\n",
       "      <td>B</td>\n",
       "      <td>2015</td>\n",
       "      <td>4</td>\n",
       "      <td>1</td>\n",
       "      <td>405</td>\n",
       "      <td>13005</td>\n",
       "    </tr>\n",
       "    <tr>\n",
       "      <th>...</th>\n",
       "      <td>...</td>\n",
       "      <td>...</td>\n",
       "      <td>...</td>\n",
       "      <td>...</td>\n",
       "      <td>...</td>\n",
       "      <td>...</td>\n",
       "    </tr>\n",
       "    <tr>\n",
       "      <th>95</th>\n",
       "      <td>A</td>\n",
       "      <td>2018</td>\n",
       "      <td>9</td>\n",
       "      <td>7</td>\n",
       "      <td>798</td>\n",
       "      <td>17919</td>\n",
       "    </tr>\n",
       "    <tr>\n",
       "      <th>96</th>\n",
       "      <td>C</td>\n",
       "      <td>2013</td>\n",
       "      <td>11</td>\n",
       "      <td>7</td>\n",
       "      <td>788</td>\n",
       "      <td>12532</td>\n",
       "    </tr>\n",
       "    <tr>\n",
       "      <th>97</th>\n",
       "      <td>D</td>\n",
       "      <td>2022</td>\n",
       "      <td>6</td>\n",
       "      <td>5</td>\n",
       "      <td>171</td>\n",
       "      <td>16894</td>\n",
       "    </tr>\n",
       "    <tr>\n",
       "      <th>98</th>\n",
       "      <td>B</td>\n",
       "      <td>2018</td>\n",
       "      <td>2</td>\n",
       "      <td>1</td>\n",
       "      <td>777</td>\n",
       "      <td>18732</td>\n",
       "    </tr>\n",
       "    <tr>\n",
       "      <th>99</th>\n",
       "      <td>E</td>\n",
       "      <td>2019</td>\n",
       "      <td>3</td>\n",
       "      <td>4</td>\n",
       "      <td>413</td>\n",
       "      <td>18381</td>\n",
       "    </tr>\n",
       "  </tbody>\n",
       "</table>\n",
       "<p>100 rows × 6 columns</p>\n",
       "</div>"
      ],
      "text/plain": [
       "   class  year  month  val1  val2   val3\n",
       "0      A  2011      9     3   665  18186\n",
       "1      C  2017      3     9   407  12997\n",
       "2      C  2012      7    10   472  13561\n",
       "3      E  2017     12     1   338  19672\n",
       "4      B  2015      4     1   405  13005\n",
       "..   ...   ...    ...   ...   ...    ...\n",
       "95     A  2018      9     7   798  17919\n",
       "96     C  2013     11     7   788  12532\n",
       "97     D  2022      6     5   171  16894\n",
       "98     B  2018      2     1   777  18732\n",
       "99     E  2019      3     4   413  18381\n",
       "\n",
       "[100 rows x 6 columns]"
      ]
     },
     "execution_count": 85,
     "metadata": {},
     "output_type": "execute_result"
    }
   ],
   "source": [
    "# 테스트용 더미데이터 프레임 만들기 : 판다스랑 조합해서 생성\n",
    "size =100\n",
    "df = pd.DataFrame({\n",
    "    'class':[['A', 'B', 'C', 'D', 'E', 'F'][np.random.randint(0, 5)] for i in range(0, size)],\n",
    "    'year' :[np.random.randint(2010, 2024) for i in range(0, size)],\n",
    "    'month' :[np.random.randint(1, 13) for i in range(0, size)],\n",
    "    'val1': [np.random.randint(1,11) for i in range(0, size)],\n",
    "    'val2': [np.random.randint(100,1000) for i in range(0, size)],\n",
    "    'val3': [np.random.randint(10000,20000) for i in range(0, size)]\n",
    "})\n",
    "\n",
    "df"
   ]
  },
  {
   "cell_type": "code",
   "execution_count": 86,
   "metadata": {},
   "outputs": [
    {
     "data": {
      "text/plain": [
       "(100, 6)"
      ]
     },
     "execution_count": 86,
     "metadata": {},
     "output_type": "execute_result"
    }
   ],
   "source": [
    "df.shape"
   ]
  },
  {
   "cell_type": "code",
   "execution_count": 87,
   "metadata": {},
   "outputs": [
    {
     "data": {
      "text/html": [
       "<div>\n",
       "<style scoped>\n",
       "    .dataframe tbody tr th:only-of-type {\n",
       "        vertical-align: middle;\n",
       "    }\n",
       "\n",
       "    .dataframe tbody tr th {\n",
       "        vertical-align: top;\n",
       "    }\n",
       "\n",
       "    .dataframe thead th {\n",
       "        text-align: right;\n",
       "    }\n",
       "</style>\n",
       "<table border=\"1\" class=\"dataframe\">\n",
       "  <thead>\n",
       "    <tr style=\"text-align: right;\">\n",
       "      <th></th>\n",
       "      <th>0</th>\n",
       "      <th>1</th>\n",
       "      <th>2</th>\n",
       "      <th>3</th>\n",
       "      <th>4</th>\n",
       "      <th>5</th>\n",
       "      <th>6</th>\n",
       "      <th>7</th>\n",
       "      <th>8</th>\n",
       "      <th>9</th>\n",
       "      <th>...</th>\n",
       "      <th>90</th>\n",
       "      <th>91</th>\n",
       "      <th>92</th>\n",
       "      <th>93</th>\n",
       "      <th>94</th>\n",
       "      <th>95</th>\n",
       "      <th>96</th>\n",
       "      <th>97</th>\n",
       "      <th>98</th>\n",
       "      <th>99</th>\n",
       "    </tr>\n",
       "  </thead>\n",
       "  <tbody>\n",
       "    <tr>\n",
       "      <th>class</th>\n",
       "      <td>A</td>\n",
       "      <td>C</td>\n",
       "      <td>C</td>\n",
       "      <td>E</td>\n",
       "      <td>B</td>\n",
       "      <td>B</td>\n",
       "      <td>A</td>\n",
       "      <td>B</td>\n",
       "      <td>B</td>\n",
       "      <td>D</td>\n",
       "      <td>...</td>\n",
       "      <td>E</td>\n",
       "      <td>D</td>\n",
       "      <td>B</td>\n",
       "      <td>A</td>\n",
       "      <td>C</td>\n",
       "      <td>A</td>\n",
       "      <td>C</td>\n",
       "      <td>D</td>\n",
       "      <td>B</td>\n",
       "      <td>E</td>\n",
       "    </tr>\n",
       "    <tr>\n",
       "      <th>year</th>\n",
       "      <td>2011</td>\n",
       "      <td>2017</td>\n",
       "      <td>2012</td>\n",
       "      <td>2017</td>\n",
       "      <td>2015</td>\n",
       "      <td>2016</td>\n",
       "      <td>2010</td>\n",
       "      <td>2019</td>\n",
       "      <td>2012</td>\n",
       "      <td>2020</td>\n",
       "      <td>...</td>\n",
       "      <td>2016</td>\n",
       "      <td>2016</td>\n",
       "      <td>2023</td>\n",
       "      <td>2022</td>\n",
       "      <td>2013</td>\n",
       "      <td>2018</td>\n",
       "      <td>2013</td>\n",
       "      <td>2022</td>\n",
       "      <td>2018</td>\n",
       "      <td>2019</td>\n",
       "    </tr>\n",
       "    <tr>\n",
       "      <th>month</th>\n",
       "      <td>9</td>\n",
       "      <td>3</td>\n",
       "      <td>7</td>\n",
       "      <td>12</td>\n",
       "      <td>4</td>\n",
       "      <td>1</td>\n",
       "      <td>6</td>\n",
       "      <td>6</td>\n",
       "      <td>11</td>\n",
       "      <td>8</td>\n",
       "      <td>...</td>\n",
       "      <td>5</td>\n",
       "      <td>9</td>\n",
       "      <td>1</td>\n",
       "      <td>5</td>\n",
       "      <td>1</td>\n",
       "      <td>9</td>\n",
       "      <td>11</td>\n",
       "      <td>6</td>\n",
       "      <td>2</td>\n",
       "      <td>3</td>\n",
       "    </tr>\n",
       "    <tr>\n",
       "      <th>val1</th>\n",
       "      <td>3</td>\n",
       "      <td>9</td>\n",
       "      <td>10</td>\n",
       "      <td>1</td>\n",
       "      <td>1</td>\n",
       "      <td>1</td>\n",
       "      <td>5</td>\n",
       "      <td>9</td>\n",
       "      <td>3</td>\n",
       "      <td>7</td>\n",
       "      <td>...</td>\n",
       "      <td>1</td>\n",
       "      <td>5</td>\n",
       "      <td>1</td>\n",
       "      <td>5</td>\n",
       "      <td>4</td>\n",
       "      <td>7</td>\n",
       "      <td>7</td>\n",
       "      <td>5</td>\n",
       "      <td>1</td>\n",
       "      <td>4</td>\n",
       "    </tr>\n",
       "    <tr>\n",
       "      <th>val2</th>\n",
       "      <td>665</td>\n",
       "      <td>407</td>\n",
       "      <td>472</td>\n",
       "      <td>338</td>\n",
       "      <td>405</td>\n",
       "      <td>156</td>\n",
       "      <td>926</td>\n",
       "      <td>384</td>\n",
       "      <td>905</td>\n",
       "      <td>758</td>\n",
       "      <td>...</td>\n",
       "      <td>749</td>\n",
       "      <td>711</td>\n",
       "      <td>280</td>\n",
       "      <td>735</td>\n",
       "      <td>120</td>\n",
       "      <td>798</td>\n",
       "      <td>788</td>\n",
       "      <td>171</td>\n",
       "      <td>777</td>\n",
       "      <td>413</td>\n",
       "    </tr>\n",
       "    <tr>\n",
       "      <th>val3</th>\n",
       "      <td>18186</td>\n",
       "      <td>12997</td>\n",
       "      <td>13561</td>\n",
       "      <td>19672</td>\n",
       "      <td>13005</td>\n",
       "      <td>12804</td>\n",
       "      <td>17862</td>\n",
       "      <td>10295</td>\n",
       "      <td>11163</td>\n",
       "      <td>17553</td>\n",
       "      <td>...</td>\n",
       "      <td>19960</td>\n",
       "      <td>17793</td>\n",
       "      <td>19006</td>\n",
       "      <td>18233</td>\n",
       "      <td>11118</td>\n",
       "      <td>17919</td>\n",
       "      <td>12532</td>\n",
       "      <td>16894</td>\n",
       "      <td>18732</td>\n",
       "      <td>18381</td>\n",
       "    </tr>\n",
       "  </tbody>\n",
       "</table>\n",
       "<p>6 rows × 100 columns</p>\n",
       "</div>"
      ],
      "text/plain": [
       "          0      1      2      3      4      5      6      7      8      9   \\\n",
       "class      A      C      C      E      B      B      A      B      B      D   \n",
       "year    2011   2017   2012   2017   2015   2016   2010   2019   2012   2020   \n",
       "month      9      3      7     12      4      1      6      6     11      8   \n",
       "val1       3      9     10      1      1      1      5      9      3      7   \n",
       "val2     665    407    472    338    405    156    926    384    905    758   \n",
       "val3   18186  12997  13561  19672  13005  12804  17862  10295  11163  17553   \n",
       "\n",
       "       ...     90     91     92     93     94     95     96     97     98  \\\n",
       "class  ...      E      D      B      A      C      A      C      D      B   \n",
       "year   ...   2016   2016   2023   2022   2013   2018   2013   2022   2018   \n",
       "month  ...      5      9      1      5      1      9     11      6      2   \n",
       "val1   ...      1      5      1      5      4      7      7      5      1   \n",
       "val2   ...    749    711    280    735    120    798    788    171    777   \n",
       "val3   ...  19960  17793  19006  18233  11118  17919  12532  16894  18732   \n",
       "\n",
       "          99  \n",
       "class      E  \n",
       "year    2019  \n",
       "month      3  \n",
       "val1       4  \n",
       "val2     413  \n",
       "val3   18381  \n",
       "\n",
       "[6 rows x 100 columns]"
      ]
     },
     "execution_count": 87,
     "metadata": {},
     "output_type": "execute_result"
    }
   ],
   "source": [
    "df.T"
   ]
  }
 ],
 "metadata": {
  "kernelspec": {
   "display_name": "Python 3",
   "language": "python",
   "name": "python3"
  },
  "language_info": {
   "codemirror_mode": {
    "name": "ipython",
    "version": 3
   },
   "file_extension": ".py",
   "mimetype": "text/x-python",
   "name": "python",
   "nbconvert_exporter": "python",
   "pygments_lexer": "ipython3",
   "version": "3.11.4"
  },
  "orig_nbformat": 4,
  "vscode": {
   "interpreter": {
    "hash": "5238573367df39f7286bb46f9ff5f08f63a01a80960060ce41e3c79b190280fa"
   }
  }
 },
 "nbformat": 4,
 "nbformat_minor": 2
}
