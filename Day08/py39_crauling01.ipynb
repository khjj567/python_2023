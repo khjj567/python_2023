{
 "cells": [
  {
   "attachments": {},
   "cell_type": "markdown",
   "metadata": {},
   "source": [
    "#### 멜론 노래순위 정보 크롤링\n",
    "\n",
    "##### 크롬드라이버"
   ]
  },
  {
   "cell_type": "code",
   "execution_count": 1,
   "metadata": {},
   "outputs": [],
   "source": [
    "# 크롬드라이버로 크롬 열기\n",
    "from selenium import webdriver\n",
    "driver = webdriver.Chrome()"
   ]
  },
  {
   "cell_type": "code",
   "execution_count": 10,
   "metadata": {},
   "outputs": [],
   "source": [
    "# 멜론차트로 진입\n",
    "url = 'https://www.melon.com/chart/index.htm'\n",
    "driver.get(url)"
   ]
  },
  {
   "attachments": {},
   "cell_type": "markdown",
   "metadata": {},
   "source": [
    "##### 뷰티풀수프로 웹크롤링"
   ]
  },
  {
   "cell_type": "code",
   "execution_count": 11,
   "metadata": {},
   "outputs": [],
   "source": [
    "# beautifulSoup로 HTML 다운로드\n",
    "from bs4 import BeautifulSoup\n",
    "\n",
    "html = driver.page_source\n",
    "soup = BeautifulSoup(html, 'html.parser') # html.parser, xml, lxml, html5lib\n"
   ]
  },
  {
   "cell_type": "code",
   "execution_count": 12,
   "metadata": {},
   "outputs": [
    {
     "data": {
      "text/plain": [
       "100"
      ]
     },
     "execution_count": 12,
     "metadata": {},
     "output_type": "execute_result"
    }
   ],
   "source": [
    "songs = soup.select('table >tbody>tr')\n",
    "len(songs)"
   ]
  },
  {
   "cell_type": "code",
   "execution_count": 13,
   "metadata": {},
   "outputs": [],
   "source": [
    "song = songs[8]"
   ]
  },
  {
   "cell_type": "code",
   "execution_count": 14,
   "metadata": {},
   "outputs": [
    {
     "data": {
      "text/plain": [
       "[<a class=\"image_typeAll\" href=\"javascript:melon.link.goAlbumDetail('10923444');\" title=\"IM HERO\">\n",
       " <img alt=\"IM HERO - 페이지 이동\" height=\"60\" onerror=\"WEBPOCIMG.defaultAlbumImg(this);\" src=\"https://cdnimg.melon.co.kr/cm2/album/images/109/23/444/10923444_20220502140600_500.jpg/melon/resize/120/quality/80/optimize\" width=\"60\"/>\n",
       " <span class=\"bg_album_frame\"></span>\n",
       " </a>,\n",
       " <a class=\"btn button_icons type03 song_info\" href=\"javascript:melon.link.goSongDetail('34908740');\" title=\"우리들의 블루스 곡정보\"><span class=\"none\">곡정보</span></a>,\n",
       " <a href=\"javascript:melon.play.playSong('1000002721',34908740);\" title=\"우리들의 블루스 재생\">우리들의 블루스</a>,\n",
       " <a href=\"javascript:melon.link.goArtistDetail('994944');\" title=\"임영웅 - 페이지 이동\">임영웅</a>,\n",
       " <a href=\"javascript:melon.link.goArtistDetail('994944');\" title=\"임영웅 - 페이지 이동\">임영웅</a>,\n",
       " <a href=\"javascript:melon.link.goAlbumDetail('10923444');\" title=\"IM HERO - 페이지 이동\">IM HERO</a>]"
      ]
     },
     "execution_count": 14,
     "metadata": {},
     "output_type": "execute_result"
    }
   ],
   "source": [
    "song.select('a')"
   ]
  },
  {
   "cell_type": "code",
   "execution_count": 15,
   "metadata": {},
   "outputs": [
    {
     "data": {
      "text/plain": [
       "[]"
      ]
     },
     "execution_count": 15,
     "metadata": {},
     "output_type": "execute_result"
    }
   ],
   "source": [
    "song.select('span.rank_wrap> span.up')"
   ]
  },
  {
   "cell_type": "code",
   "execution_count": 16,
   "metadata": {},
   "outputs": [
    {
     "data": {
      "text/plain": [
       "<a href=\"javascript:melon.play.playSong('1000002721',34908740);\" title=\"우리들의 블루스 재생\">우리들의 블루스</a>"
      ]
     },
     "execution_count": 16,
     "metadata": {},
     "output_type": "execute_result"
    }
   ],
   "source": [
    "song.select('span > a')[0]"
   ]
  },
  {
   "cell_type": "code",
   "execution_count": 17,
   "metadata": {},
   "outputs": [
    {
     "name": "stdout",
     "output_type": "stream",
     "text": [
      "퀸카 (Queencard)\n",
      "I AM\n",
      "Spicy\n",
      "이브, 프시케 그리고 푸른 수염의 아내\n",
      "UNFORGIVEN (feat. Nile Rodgers)\n",
      "Kitsch\n",
      "사랑은 늘 도망가\n",
      "모래 알갱이\n",
      "우리들의 블루스\n",
      "헤어지자 말해요\n",
      "Hype boy\n",
      "다시 만날 수 있을까\n",
      "무지개\n",
      "꽃\n",
      "London Boy\n",
      "손오공\n",
      "이제 나만 믿어요\n",
      "Polaroid\n",
      "아버지\n",
      "Ditto\n",
      "인생찬가\n",
      "A bientot\n",
      "손이 참 곱던 그대\n",
      "Cupid\n",
      "사랑해 진짜\n",
      "연애편지\n",
      "OMG\n",
      "사건의 지평선\n",
      "파이팅 해야지 (Feat. 이영지)\n",
      "I Don't Think That I Like Her\n",
      "보금자리\n",
      "Allergy\n",
      "Candy\n",
      "Dangerously\n",
      "After LIKE\n",
      "Dynamite\n",
      "Attention\n",
      "물론\n",
      "LOVE DIVE\n",
      "Teddy Bear\n",
      "심(心)\n",
      "Take Two\n",
      "Butter\n",
      "사랑..그게 뭔데\n",
      "사랑하지 않아서 그랬어\n",
      "사람 Pt.2 (feat. 아이유)\n",
      "ANTIFRAGILE\n",
      "잠깐 시간 될까\n",
      "Like Crazy\n",
      "Broken Melodies\n",
      "봄날\n",
      "HARD\n",
      "Heaven(2023)\n",
      "사랑인가 봐\n",
      "나에게 그대만이\n",
      "Permission to Dance\n",
      "NIGHT DANCER\n",
      "너의 모든 순간\n",
      "The Planet\n",
      "빛이 나는 너에게\n",
      "사실말야내가말야그게그러니까말이야\n",
      "찬란한 하루\n",
      "Angel Pt. 1 (Feat. Kodak Black, NLE Choppa, JVKE, Muni Long)\n",
      "Dreamers [Music from the FIFA World Cup Qatar 2022 Official Soundtrack] (Feat. FIFA Sound)\n",
      "건물 사이에 피어난 장미 (Rose Blossom)\n",
      "Thirsty\n",
      "KNOCK\n",
      "첫 키스에 내 심장은 120BPM\n",
      "That's Hilarious\n",
      "사랑의 바보\n",
      "STAY\n",
      "Nxde\n",
      "부동의 첫사랑\n",
      "TOMBOY\n",
      "on the street (with J. Cole)\n",
      "나의 바람 (Wind And Wish)\n",
      "안녕이라고 말하지마\n",
      "해요 (2022)\n",
      "한사람만 (2023) (여름날 우리 X 이홍기 (FT아일랜드))\n",
      "그중에 그대를 만나\n",
      "취중고백\n",
      "사랑하지 않아서 그랬니\n",
      "사랑하기 싫어\n",
      "CHRISTIAN\n",
      "Monologue\n",
      "That’s Not How This Works (feat. Dan + Shay)\n",
      "FRIEND THE END\n",
      "Love Me Like This\n",
      "한강에서 (Feat. BIG Naughty)\n",
      "다정히 내 이름을 부르면\n",
      "그라데이션\n",
      "ELEVEN\n",
      "LOCKDOWN\n",
      "FEARLESS\n",
      "Shut Down\n",
      "내가 아니라도\n",
      "정이라고 하자 (Feat. 10CM)\n",
      "Say I Love You\n",
      "Pink Venom\n",
      "당신을 만나\n"
     ]
    }
   ],
   "source": [
    "for song in songs :\n",
    "    title = song.select('span >a')[0].text\n",
    "    print(title)"
   ]
  },
  {
   "cell_type": "code",
   "execution_count": 18,
   "metadata": {},
   "outputs": [
    {
     "name": "stdout",
     "output_type": "stream",
     "text": [
      "1 퀸카 (Queencard) (여자)아이들\n",
      "2 I AM IVE (아이브)\n",
      "3 Spicy aespa\n",
      "4 이브, 프시케 그리고 푸른 수염의 아내 LE SSERAFIM (르세라핌)\n",
      "5 UNFORGIVEN (feat. Nile Rodgers) LE SSERAFIM (르세라핌)\n",
      "6 Kitsch IVE (아이브)\n",
      "7 사랑은 늘 도망가 임영웅\n",
      "8 모래 알갱이 임영웅\n",
      "9 우리들의 블루스 임영웅\n",
      "10 헤어지자 말해요 박재정\n",
      "11 Hype boy NewJeans\n",
      "12 다시 만날 수 있을까 임영웅\n",
      "13 무지개 임영웅\n",
      "14 꽃 지수 (JISOO)\n",
      "15 London Boy 임영웅\n",
      "16 손오공 세븐틴 (SEVENTEEN)\n",
      "17 이제 나만 믿어요 임영웅\n",
      "18 Polaroid 임영웅\n",
      "19 아버지 임영웅\n",
      "20 Ditto NewJeans\n",
      "21 인생찬가 임영웅\n",
      "22 A bientot 임영웅\n",
      "23 손이 참 곱던 그대 임영웅\n",
      "24 Cupid FIFTY FIFTY\n",
      "25 사랑해 진짜 임영웅\n",
      "26 연애편지 임영웅\n",
      "27 OMG NewJeans\n",
      "28 사건의 지평선 윤하 (YOUNHA)\n",
      "29 파이팅 해야지 (Feat. 이영지) 부석순 (SEVENTEEN)\n",
      "30 I Don't Think That I Like Her Charlie Puth\n",
      "31 보금자리 임영웅\n",
      "32 Allergy (여자)아이들\n",
      "33 Candy NCT DREAM\n",
      "34 Dangerously Charlie Puth\n",
      "35 After LIKE IVE (아이브)\n",
      "36 Dynamite 방탄소년단\n",
      "37 Attention NewJeans\n",
      "38 물론 허각\n",
      "39 LOVE DIVE IVE (아이브)\n",
      "40 Teddy Bear STAYC(스테이씨)\n",
      "41 심(心) DK(디셈버)\n",
      "42 Take Two 방탄소년단\n",
      "43 Butter 방탄소년단\n",
      "44 사랑..그게 뭔데 지아\n",
      "45 사랑하지 않아서 그랬어 임한별\n",
      "46 사람 Pt.2 (feat. 아이유) Agust D\n",
      "47 ANTIFRAGILE LE SSERAFIM (르세라핌)\n",
      "48 잠깐 시간 될까 이무진\n",
      "49 Like Crazy 지민\n",
      "50 Broken Melodies NCT DREAM\n",
      "51 봄날 방탄소년단\n",
      "52 HARD SHINee (샤이니)\n",
      "53 Heaven(2023) 임재현\n",
      "54 사랑인가 봐 멜로망스\n",
      "55 나에게 그대만이 탑현\n",
      "56 Permission to Dance 방탄소년단\n",
      "57 NIGHT DANCER imase\n",
      "58 너의 모든 순간 성시경\n",
      "59 The Planet 방탄소년단\n",
      "60 빛이 나는 너에게 던 (DAWN)\n",
      "61 사실말야내가말야그게그러니까말이야 케이시 (Kassy)\n",
      "62 찬란한 하루 멜로망스\n",
      "63 Angel Pt. 1 (Feat. Kodak Black, NLE Choppa, JVKE, Muni Long) Fast & Furious: The Fast Saga\n",
      "64 Dreamers [Music from the FIFA World Cup Qatar 2022 Official Soundtrack] (Feat. FIFA Sound) 정국\n",
      "65 건물 사이에 피어난 장미 (Rose Blossom) H1-KEY (하이키)\n",
      "66 Thirsty aespa\n",
      "67 KNOCK 이채연\n",
      "68 첫 키스에 내 심장은 120BPM 경서\n",
      "69 That's Hilarious Charlie Puth\n",
      "70 사랑의 바보 제이세라\n",
      "71 STAY The Kid LAROI\n",
      "72 Nxde (여자)아이들\n",
      "73 부동의 첫사랑 10CM\n",
      "74 TOMBOY (여자)아이들\n",
      "75 on the street (with J. Cole) j-hope\n",
      "76 나의 바람 (Wind And Wish) 비투비\n",
      "77 안녕이라고 말하지마 V.O.S\n",
      "78 해요 (2022) #안녕\n",
      "79 한사람만 (2023) (여름날 우리 X 이홍기 (FT아일랜드)) 이홍기 (FT아일랜드)\n",
      "80 그중에 그대를 만나 김호중\n",
      "81 취중고백 김민석 (멜로망스)\n",
      "82 사랑하지 않아서 그랬니 지아\n",
      "83 사랑하기 싫어 지아\n",
      "84 CHRISTIAN Zior Park\n",
      "85 Monologue 테이\n",
      "86 That’s Not How This Works (feat. Dan + Shay) Charlie Puth\n",
      "87 FRIEND THE END 볼빨간사춘기\n",
      "88 Love Me Like This NMIXX\n",
      "89 한강에서 (Feat. BIG Naughty) 폴킴\n",
      "90 다정히 내 이름을 부르면 경서예지\n",
      "91 그라데이션 10CM\n",
      "92 ELEVEN IVE (아이브)\n",
      "93 LOCKDOWN 이세계아이돌\n",
      "94 FEARLESS LE SSERAFIM (르세라핌)\n",
      "95 Shut Down BLACKPINK\n",
      "96 내가 아니라도 주호\n",
      "97 정이라고 하자 (Feat. 10CM) BIG Naughty (서동현)\n",
      "98 Say I Love You 우디 (Woody)\n",
      "99 Pink Venom BLACKPINK\n",
      "100 당신을 만나 김호중\n"
     ]
    }
   ],
   "source": [
    "for song in songs :\n",
    "    rank = song.select('span.rank')[0].text\n",
    "    # rankupdown = song.select('span.rank_wrap > span.up')\n",
    "    title = song.select('span >a')[0].text\n",
    "    singer = song.select('span.checkEllipsis > a')[0].text\n",
    "    singer = song.select('span.checkEllipsis > a')[0].text\n",
    "\n",
    "    print(rank, title, singer)"
   ]
  },
  {
   "cell_type": "code",
   "execution_count": null,
   "metadata": {},
   "outputs": [],
   "source": [
    "result = []\n",
    "for song in songs :\n",
    "    rank = song.select('span.rank')[0].text\n",
    "    # rankupdown = song.select('span.rank_wrap > span.up')\n",
    "    title = song.select('span >a')[0].text\n",
    "    singer = song.select('span.checkEllipsis > a')[0].text\n",
    "    singer = song.select('span.checkEllipsis > a')[0].text\n",
    "    result.append([rank, title, singer])\n",
    "\n",
    "    print(result)"
   ]
  },
  {
   "cell_type": "code",
   "execution_count": 20,
   "metadata": {},
   "outputs": [],
   "source": [
    "import pandas as pd"
   ]
  },
  {
   "cell_type": "code",
   "execution_count": 21,
   "metadata": {},
   "outputs": [
    {
     "data": {
      "text/html": [
       "<div>\n",
       "<style scoped>\n",
       "    .dataframe tbody tr th:only-of-type {\n",
       "        vertical-align: middle;\n",
       "    }\n",
       "\n",
       "    .dataframe tbody tr th {\n",
       "        vertical-align: top;\n",
       "    }\n",
       "\n",
       "    .dataframe thead th {\n",
       "        text-align: right;\n",
       "    }\n",
       "</style>\n",
       "<table border=\"1\" class=\"dataframe\">\n",
       "  <thead>\n",
       "    <tr style=\"text-align: right;\">\n",
       "      <th></th>\n",
       "      <th>0</th>\n",
       "      <th>1</th>\n",
       "      <th>2</th>\n",
       "    </tr>\n",
       "  </thead>\n",
       "  <tbody>\n",
       "    <tr>\n",
       "      <th>0</th>\n",
       "      <td>1</td>\n",
       "      <td>퀸카 (Queencard)</td>\n",
       "      <td>(여자)아이들</td>\n",
       "    </tr>\n",
       "    <tr>\n",
       "      <th>1</th>\n",
       "      <td>2</td>\n",
       "      <td>I AM</td>\n",
       "      <td>IVE (아이브)</td>\n",
       "    </tr>\n",
       "    <tr>\n",
       "      <th>2</th>\n",
       "      <td>3</td>\n",
       "      <td>Spicy</td>\n",
       "      <td>aespa</td>\n",
       "    </tr>\n",
       "    <tr>\n",
       "      <th>3</th>\n",
       "      <td>4</td>\n",
       "      <td>이브, 프시케 그리고 푸른 수염의 아내</td>\n",
       "      <td>LE SSERAFIM (르세라핌)</td>\n",
       "    </tr>\n",
       "    <tr>\n",
       "      <th>4</th>\n",
       "      <td>5</td>\n",
       "      <td>UNFORGIVEN (feat. Nile Rodgers)</td>\n",
       "      <td>LE SSERAFIM (르세라핌)</td>\n",
       "    </tr>\n",
       "    <tr>\n",
       "      <th>...</th>\n",
       "      <td>...</td>\n",
       "      <td>...</td>\n",
       "      <td>...</td>\n",
       "    </tr>\n",
       "    <tr>\n",
       "      <th>95</th>\n",
       "      <td>96</td>\n",
       "      <td>내가 아니라도</td>\n",
       "      <td>주호</td>\n",
       "    </tr>\n",
       "    <tr>\n",
       "      <th>96</th>\n",
       "      <td>97</td>\n",
       "      <td>정이라고 하자 (Feat. 10CM)</td>\n",
       "      <td>BIG Naughty (서동현)</td>\n",
       "    </tr>\n",
       "    <tr>\n",
       "      <th>97</th>\n",
       "      <td>98</td>\n",
       "      <td>Say I Love You</td>\n",
       "      <td>우디 (Woody)</td>\n",
       "    </tr>\n",
       "    <tr>\n",
       "      <th>98</th>\n",
       "      <td>99</td>\n",
       "      <td>Pink Venom</td>\n",
       "      <td>BLACKPINK</td>\n",
       "    </tr>\n",
       "    <tr>\n",
       "      <th>99</th>\n",
       "      <td>100</td>\n",
       "      <td>당신을 만나</td>\n",
       "      <td>김호중</td>\n",
       "    </tr>\n",
       "  </tbody>\n",
       "</table>\n",
       "<p>100 rows × 3 columns</p>\n",
       "</div>"
      ],
      "text/plain": [
       "      0                                1                   2\n",
       "0     1                   퀸카 (Queencard)             (여자)아이들\n",
       "1     2                             I AM           IVE (아이브)\n",
       "2     3                            Spicy               aespa\n",
       "3     4            이브, 프시케 그리고 푸른 수염의 아내  LE SSERAFIM (르세라핌)\n",
       "4     5  UNFORGIVEN (feat. Nile Rodgers)  LE SSERAFIM (르세라핌)\n",
       "..  ...                              ...                 ...\n",
       "95   96                          내가 아니라도                  주호\n",
       "96   97             정이라고 하자 (Feat. 10CM)   BIG Naughty (서동현)\n",
       "97   98                   Say I Love You          우디 (Woody)\n",
       "98   99                       Pink Venom           BLACKPINK\n",
       "99  100                           당신을 만나                 김호중\n",
       "\n",
       "[100 rows x 3 columns]"
      ]
     },
     "execution_count": 21,
     "metadata": {},
     "output_type": "execute_result"
    }
   ],
   "source": [
    "df = pd.DataFrame(result)\n",
    "\n",
    "df"
   ]
  },
  {
   "cell_type": "code",
   "execution_count": 22,
   "metadata": {},
   "outputs": [
    {
     "data": {
      "text/html": [
       "<div>\n",
       "<style scoped>\n",
       "    .dataframe tbody tr th:only-of-type {\n",
       "        vertical-align: middle;\n",
       "    }\n",
       "\n",
       "    .dataframe tbody tr th {\n",
       "        vertical-align: top;\n",
       "    }\n",
       "\n",
       "    .dataframe thead th {\n",
       "        text-align: right;\n",
       "    }\n",
       "</style>\n",
       "<table border=\"1\" class=\"dataframe\">\n",
       "  <thead>\n",
       "    <tr style=\"text-align: right;\">\n",
       "      <th></th>\n",
       "      <th>순위</th>\n",
       "      <th>곡명</th>\n",
       "      <th>가수명</th>\n",
       "    </tr>\n",
       "  </thead>\n",
       "  <tbody>\n",
       "    <tr>\n",
       "      <th>0</th>\n",
       "      <td>1</td>\n",
       "      <td>퀸카 (Queencard)</td>\n",
       "      <td>(여자)아이들</td>\n",
       "    </tr>\n",
       "    <tr>\n",
       "      <th>1</th>\n",
       "      <td>2</td>\n",
       "      <td>I AM</td>\n",
       "      <td>IVE (아이브)</td>\n",
       "    </tr>\n",
       "    <tr>\n",
       "      <th>2</th>\n",
       "      <td>3</td>\n",
       "      <td>Spicy</td>\n",
       "      <td>aespa</td>\n",
       "    </tr>\n",
       "    <tr>\n",
       "      <th>3</th>\n",
       "      <td>4</td>\n",
       "      <td>이브, 프시케 그리고 푸른 수염의 아내</td>\n",
       "      <td>LE SSERAFIM (르세라핌)</td>\n",
       "    </tr>\n",
       "    <tr>\n",
       "      <th>4</th>\n",
       "      <td>5</td>\n",
       "      <td>UNFORGIVEN (feat. Nile Rodgers)</td>\n",
       "      <td>LE SSERAFIM (르세라핌)</td>\n",
       "    </tr>\n",
       "    <tr>\n",
       "      <th>...</th>\n",
       "      <td>...</td>\n",
       "      <td>...</td>\n",
       "      <td>...</td>\n",
       "    </tr>\n",
       "    <tr>\n",
       "      <th>95</th>\n",
       "      <td>96</td>\n",
       "      <td>내가 아니라도</td>\n",
       "      <td>주호</td>\n",
       "    </tr>\n",
       "    <tr>\n",
       "      <th>96</th>\n",
       "      <td>97</td>\n",
       "      <td>정이라고 하자 (Feat. 10CM)</td>\n",
       "      <td>BIG Naughty (서동현)</td>\n",
       "    </tr>\n",
       "    <tr>\n",
       "      <th>97</th>\n",
       "      <td>98</td>\n",
       "      <td>Say I Love You</td>\n",
       "      <td>우디 (Woody)</td>\n",
       "    </tr>\n",
       "    <tr>\n",
       "      <th>98</th>\n",
       "      <td>99</td>\n",
       "      <td>Pink Venom</td>\n",
       "      <td>BLACKPINK</td>\n",
       "    </tr>\n",
       "    <tr>\n",
       "      <th>99</th>\n",
       "      <td>100</td>\n",
       "      <td>당신을 만나</td>\n",
       "      <td>김호중</td>\n",
       "    </tr>\n",
       "  </tbody>\n",
       "</table>\n",
       "<p>100 rows × 3 columns</p>\n",
       "</div>"
      ],
      "text/plain": [
       "     순위                               곡명                 가수명\n",
       "0     1                   퀸카 (Queencard)             (여자)아이들\n",
       "1     2                             I AM           IVE (아이브)\n",
       "2     3                            Spicy               aespa\n",
       "3     4            이브, 프시케 그리고 푸른 수염의 아내  LE SSERAFIM (르세라핌)\n",
       "4     5  UNFORGIVEN (feat. Nile Rodgers)  LE SSERAFIM (르세라핌)\n",
       "..  ...                              ...                 ...\n",
       "95   96                          내가 아니라도                  주호\n",
       "96   97             정이라고 하자 (Feat. 10CM)   BIG Naughty (서동현)\n",
       "97   98                   Say I Love You          우디 (Woody)\n",
       "98   99                       Pink Venom           BLACKPINK\n",
       "99  100                           당신을 만나                 김호중\n",
       "\n",
       "[100 rows x 3 columns]"
      ]
     },
     "execution_count": 22,
     "metadata": {},
     "output_type": "execute_result"
    }
   ],
   "source": [
    "df.columns = ['순위', '곡명', '가수명']\n",
    "\n",
    "df"
   ]
  },
  {
   "cell_type": "code",
   "execution_count": 31,
   "metadata": {},
   "outputs": [],
   "source": [
    "# 데이터 프레임을 csv 저장\n",
    "\n",
    "df = pd.DataFrame(result)\n",
    "df.columns = ['순위', '곡명', '가수명']\n",
    "\n",
    "df\n",
    "\n",
    "df.to_csv('./melon_ranking_100.csv', encoding='utf-8', index=False)\n",
    "# 왜 표로 안올라가지"
   ]
  },
  {
   "attachments": {},
   "cell_type": "markdown",
   "metadata": {},
   "source": [
    "##### 셀레니움 만으로 크롤링"
   ]
  },
  {
   "cell_type": "code",
   "execution_count": 16,
   "metadata": {},
   "outputs": [
    {
     "ename": "NoSuchWindowException",
     "evalue": "Message: no such window: target window already closed\nfrom unknown error: web view not found\n  (Session info: chrome=114.0.5735.199)\nStacktrace:\nBacktrace:\n\tGetHandleVerifier [0x009AA813+48355]\n\t(No symbol) [0x0093C4B1]\n\t(No symbol) [0x00845358]\n\t(No symbol) [0x0082D293]\n\t(No symbol) [0x0088E37B]\n\t(No symbol) [0x0089C473]\n\t(No symbol) [0x0088A536]\n\t(No symbol) [0x008682DC]\n\t(No symbol) [0x008693DD]\n\tGetHandleVerifier [0x00C0AABD+2539405]\n\tGetHandleVerifier [0x00C4A78F+2800735]\n\tGetHandleVerifier [0x00C4456C+2775612]\n\tGetHandleVerifier [0x00A351E0+616112]\n\t(No symbol) [0x00945F8C]\n\t(No symbol) [0x00942328]\n\t(No symbol) [0x0094240B]\n\t(No symbol) [0x00934FF7]\n\tBaseThreadInitThunk [0x76716BA9+25]\n\tRtlGetFullPathName_UEx [0x77388F9F+1215]\n\tRtlGetFullPathName_UEx [0x77388F6D+1165]\n",
     "output_type": "error",
     "traceback": [
      "\u001b[1;31m---------------------------------------------------------------------------\u001b[0m",
      "\u001b[1;31mNoSuchWindowException\u001b[0m                     Traceback (most recent call last)",
      "Cell \u001b[1;32mIn[16], line 3\u001b[0m\n\u001b[0;32m      1\u001b[0m \u001b[39mfrom\u001b[39;00m \u001b[39mselenium\u001b[39;00m\u001b[39m.\u001b[39;00m\u001b[39mwebdriver\u001b[39;00m\u001b[39m.\u001b[39;00m\u001b[39mcommon\u001b[39;00m\u001b[39m.\u001b[39;00m\u001b[39mby\u001b[39;00m \u001b[39mimport\u001b[39;00m By\n\u001b[1;32m----> 3\u001b[0m s_songs \u001b[39m=\u001b[39m driver\u001b[39m.\u001b[39;49mfind_elements(By\u001b[39m.\u001b[39;49mXPATH, \u001b[39m'\u001b[39;49m\u001b[39m//table/tbody/tr\u001b[39;49m\u001b[39m'\u001b[39;49m)\n\u001b[0;32m      5\u001b[0m \u001b[39m# for song in s_songs : \u001b[39;00m\n\u001b[0;32m      6\u001b[0m     \n\u001b[0;32m      7\u001b[0m \u001b[39m#     print(song )\u001b[39;00m\n",
      "File \u001b[1;32mc:\\Program Files\\Python311\\Lib\\site-packages\\selenium\\webdriver\\remote\\webdriver.py:770\u001b[0m, in \u001b[0;36mWebDriver.find_elements\u001b[1;34m(self, by, value)\u001b[0m\n\u001b[0;32m    766\u001b[0m     value \u001b[39m=\u001b[39m \u001b[39mf\u001b[39m\u001b[39m'\u001b[39m\u001b[39m[name=\u001b[39m\u001b[39m\"\u001b[39m\u001b[39m{\u001b[39;00mvalue\u001b[39m}\u001b[39;00m\u001b[39m\"\u001b[39m\u001b[39m]\u001b[39m\u001b[39m'\u001b[39m\n\u001b[0;32m    768\u001b[0m \u001b[39m# Return empty list if driver returns null\u001b[39;00m\n\u001b[0;32m    769\u001b[0m \u001b[39m# See https://github.com/SeleniumHQ/selenium/issues/4555\u001b[39;00m\n\u001b[1;32m--> 770\u001b[0m \u001b[39mreturn\u001b[39;00m \u001b[39mself\u001b[39;49m\u001b[39m.\u001b[39;49mexecute(Command\u001b[39m.\u001b[39;49mFIND_ELEMENTS, {\u001b[39m\"\u001b[39;49m\u001b[39musing\u001b[39;49m\u001b[39m\"\u001b[39;49m: by, \u001b[39m\"\u001b[39;49m\u001b[39mvalue\u001b[39;49m\u001b[39m\"\u001b[39;49m: value})[\u001b[39m\"\u001b[39m\u001b[39mvalue\u001b[39m\u001b[39m\"\u001b[39m] \u001b[39mor\u001b[39;00m []\n",
      "File \u001b[1;32mc:\\Program Files\\Python311\\Lib\\site-packages\\selenium\\webdriver\\remote\\webdriver.py:346\u001b[0m, in \u001b[0;36mWebDriver.execute\u001b[1;34m(self, driver_command, params)\u001b[0m\n\u001b[0;32m    344\u001b[0m response \u001b[39m=\u001b[39m \u001b[39mself\u001b[39m\u001b[39m.\u001b[39mcommand_executor\u001b[39m.\u001b[39mexecute(driver_command, params)\n\u001b[0;32m    345\u001b[0m \u001b[39mif\u001b[39;00m response:\n\u001b[1;32m--> 346\u001b[0m     \u001b[39mself\u001b[39;49m\u001b[39m.\u001b[39;49merror_handler\u001b[39m.\u001b[39;49mcheck_response(response)\n\u001b[0;32m    347\u001b[0m     response[\u001b[39m\"\u001b[39m\u001b[39mvalue\u001b[39m\u001b[39m\"\u001b[39m] \u001b[39m=\u001b[39m \u001b[39mself\u001b[39m\u001b[39m.\u001b[39m_unwrap_value(response\u001b[39m.\u001b[39mget(\u001b[39m\"\u001b[39m\u001b[39mvalue\u001b[39m\u001b[39m\"\u001b[39m, \u001b[39mNone\u001b[39;00m))\n\u001b[0;32m    348\u001b[0m     \u001b[39mreturn\u001b[39;00m response\n",
      "File \u001b[1;32mc:\\Program Files\\Python311\\Lib\\site-packages\\selenium\\webdriver\\remote\\errorhandler.py:245\u001b[0m, in \u001b[0;36mErrorHandler.check_response\u001b[1;34m(self, response)\u001b[0m\n\u001b[0;32m    243\u001b[0m         alert_text \u001b[39m=\u001b[39m value[\u001b[39m\"\u001b[39m\u001b[39malert\u001b[39m\u001b[39m\"\u001b[39m]\u001b[39m.\u001b[39mget(\u001b[39m\"\u001b[39m\u001b[39mtext\u001b[39m\u001b[39m\"\u001b[39m)\n\u001b[0;32m    244\u001b[0m     \u001b[39mraise\u001b[39;00m exception_class(message, screen, stacktrace, alert_text)  \u001b[39m# type: ignore[call-arg]  # mypy is not smart enough here\u001b[39;00m\n\u001b[1;32m--> 245\u001b[0m \u001b[39mraise\u001b[39;00m exception_class(message, screen, stacktrace)\n",
      "\u001b[1;31mNoSuchWindowException\u001b[0m: Message: no such window: target window already closed\nfrom unknown error: web view not found\n  (Session info: chrome=114.0.5735.199)\nStacktrace:\nBacktrace:\n\tGetHandleVerifier [0x009AA813+48355]\n\t(No symbol) [0x0093C4B1]\n\t(No symbol) [0x00845358]\n\t(No symbol) [0x0082D293]\n\t(No symbol) [0x0088E37B]\n\t(No symbol) [0x0089C473]\n\t(No symbol) [0x0088A536]\n\t(No symbol) [0x008682DC]\n\t(No symbol) [0x008693DD]\n\tGetHandleVerifier [0x00C0AABD+2539405]\n\tGetHandleVerifier [0x00C4A78F+2800735]\n\tGetHandleVerifier [0x00C4456C+2775612]\n\tGetHandleVerifier [0x00A351E0+616112]\n\t(No symbol) [0x00945F8C]\n\t(No symbol) [0x00942328]\n\t(No symbol) [0x0094240B]\n\t(No symbol) [0x00934FF7]\n\tBaseThreadInitThunk [0x76716BA9+25]\n\tRtlGetFullPathName_UEx [0x77388F9F+1215]\n\tRtlGetFullPathName_UEx [0x77388F6D+1165]\n"
     ]
    }
   ],
   "source": [
    "from selenium.webdriver.common.by import By\n",
    "\n",
    "s_songs = driver.find_elements(By.XPATH, '//table/tbody/tr')\n",
    "\n",
    "# for song in s_songs : \n",
    "    \n",
    "#     print(song )\n"
   ]
  },
  {
   "attachments": {},
   "cell_type": "markdown",
   "metadata": {},
   "source": [
    "##### 벅스 인기차트 100"
   ]
  },
  {
   "cell_type": "code",
   "execution_count": 17,
   "metadata": {},
   "outputs": [],
   "source": [
    "# https://music.bugs.co.kr/chart\n",
    "\n",
    "driver = webdriver.Chrome()\n",
    "driver.get('https://music.bugs.co.kr/chart')"
   ]
  },
  {
   "cell_type": "code",
   "execution_count": 20,
   "metadata": {},
   "outputs": [],
   "source": [
    "## 벅스차트 html 가져오기\n",
    "from bs4 import BeautifulSoup\n",
    "\n",
    "html = driver.page_source\n",
    "soup = BeautifulSoup(html, 'html.parser') # html.parser, xml, lxml, html5lib\n"
   ]
  },
  {
   "cell_type": "code",
   "execution_count": 23,
   "metadata": {},
   "outputs": [
    {
     "name": "stdout",
     "output_type": "stream",
     "text": [
      "100\n"
     ]
    }
   ],
   "source": [
    "# 벅스 페이지 내에 table이 두개 존재하므로 table의 클래스명까지 검색해야지 차트 100개만 나옴\n",
    "songs = soup.select('table.byChart > tbody > tr')\n",
    "print(len(songs))"
   ]
  },
  {
   "cell_type": "code",
   "execution_count": 39,
   "metadata": {},
   "outputs": [],
   "source": [
    "result = []\n",
    "for song in songs:\n",
    "    rank = song.select('td > div.ranking > strong')[0].text\n",
    "    title = song.select('p.title > a')[0].text\n",
    "    artist = song.select('p.artist > a')[0].text\n",
    "    result.append([rank, title, artist])\n",
    "\n",
    "# 데이터 프레임을 csv 저장\n",
    "import pandas as pd\n",
    "df = pd.DataFrame(result)\n",
    "df.columns = ['순위', '제목', '아티스트']\n",
    "\n",
    "df\n",
    "\n",
    "df.to_csv('./b.csv', encoding='utf-8', index=False)\n"
   ]
  },
  {
   "attachments": {},
   "cell_type": "markdown",
   "metadata": {},
   "source": [
    "#### 셀레니움 사용법\n",
    "\n",
    "##### 셀레니움 라이브러리(모듈) 설치\n",
    "\n",
    "```python\n",
    "!pip install selenium\n",
    "\n",
    "# 설치 후\n",
    "from selenium import webdriver\n",
    "```"
   ]
  }
 ],
 "metadata": {
  "kernelspec": {
   "display_name": "Python 3",
   "language": "python",
   "name": "python3"
  },
  "language_info": {
   "codemirror_mode": {
    "name": "ipython",
    "version": 3
   },
   "file_extension": ".py",
   "mimetype": "text/x-python",
   "name": "python",
   "nbconvert_exporter": "python",
   "pygments_lexer": "ipython3",
   "version": "3.11.4"
  },
  "orig_nbformat": 4,
  "vscode": {
   "interpreter": {
    "hash": "5238573367df39f7286bb46f9ff5f08f63a01a80960060ce41e3c79b190280fa"
   }
  }
 },
 "nbformat": 4,
 "nbformat_minor": 2
}
