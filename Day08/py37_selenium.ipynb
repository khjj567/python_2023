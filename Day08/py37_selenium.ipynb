{
 "cells": [
  {
   "attachments": {},
   "cell_type": "markdown",
   "metadata": {},
   "source": [
    "#### 셀레니움 사용법\n",
    "\n",
    "##### 셀레니움 라이브러리(모듈) 설치\n",
    "\n",
    "```python\n",
    "!pip install selenium\n",
    "\n",
    "# 설치 후\n",
    "from selenium import webdriver\n",
    "```"
   ]
  },
  {
   "cell_type": "code",
   "execution_count": 2,
   "metadata": {},
   "outputs": [
    {
     "name": "stdout",
     "output_type": "stream",
     "text": [
      "Collecting selenium\n",
      "  Downloading selenium-4.10.0-py3-none-any.whl (6.7 MB)\n",
      "                                              0.0/6.7 MB ? eta -:--:--\n",
      "     --                                       0.4/6.7 MB 11.2 MB/s eta 0:00:01\n",
      "     -----                                    0.9/6.7 MB 11.3 MB/s eta 0:00:01\n",
      "     -------                                  1.3/6.7 MB 10.5 MB/s eta 0:00:01\n",
      "     -----------                              1.8/6.7 MB 10.7 MB/s eta 0:00:01\n",
      "     --------------                           2.4/6.7 MB 10.9 MB/s eta 0:00:01\n",
      "     -----------------                        2.9/6.7 MB 11.1 MB/s eta 0:00:01\n",
      "     --------------------                     3.5/6.7 MB 11.1 MB/s eta 0:00:01\n",
      "     ------------------------                 4.0/6.7 MB 11.2 MB/s eta 0:00:01\n",
      "     ---------------------------              4.6/6.7 MB 11.3 MB/s eta 0:00:01\n",
      "     -------------------------------          5.2/6.7 MB 11.0 MB/s eta 0:00:01\n",
      "     ----------------------------------       5.7/6.7 MB 11.4 MB/s eta 0:00:01\n",
      "     -------------------------------------    6.3/6.7 MB 11.2 MB/s eta 0:00:01\n",
      "     ---------------------------------------  6.7/6.7 MB 11.2 MB/s eta 0:00:01\n",
      "     ---------------------------------------- 6.7/6.7 MB 10.7 MB/s eta 0:00:00\n",
      "Collecting urllib3[socks]<3,>=1.26 (from selenium)\n",
      "  Downloading urllib3-2.0.3-py3-none-any.whl (123 kB)\n",
      "                                              0.0/123.6 kB ? eta -:--:--\n",
      "     -------------------------------------- 123.6/123.6 kB 7.1 MB/s eta 0:00:00\n",
      "Collecting trio~=0.17 (from selenium)\n",
      "  Downloading trio-0.22.0-py3-none-any.whl (384 kB)\n",
      "                                              0.0/384.9 kB ? eta -:--:--\n",
      "     ------------------------------------- 384.9/384.9 kB 12.1 MB/s eta 0:00:00\n",
      "Collecting trio-websocket~=0.9 (from selenium)\n",
      "  Downloading trio_websocket-0.10.3-py3-none-any.whl (17 kB)\n",
      "Collecting certifi>=2021.10.8 (from selenium)\n",
      "  Downloading certifi-2023.5.7-py3-none-any.whl (156 kB)\n",
      "                                              0.0/157.0 kB ? eta -:--:--\n",
      "     -------------------------------------- 157.0/157.0 kB 9.2 MB/s eta 0:00:00\n",
      "Collecting attrs>=19.2.0 (from trio~=0.17->selenium)\n",
      "  Downloading attrs-23.1.0-py3-none-any.whl (61 kB)\n",
      "                                              0.0/61.2 kB ? eta -:--:--\n",
      "     ---------------------------------------- 61.2/61.2 kB ? eta 0:00:00\n",
      "Collecting sortedcontainers (from trio~=0.17->selenium)\n",
      "  Downloading sortedcontainers-2.4.0-py2.py3-none-any.whl (29 kB)\n",
      "Collecting async-generator>=1.9 (from trio~=0.17->selenium)\n",
      "  Downloading async_generator-1.10-py3-none-any.whl (18 kB)\n",
      "Collecting idna (from trio~=0.17->selenium)\n",
      "  Downloading idna-3.4-py3-none-any.whl (61 kB)\n",
      "                                              0.0/61.5 kB ? eta -:--:--\n",
      "     ---------------------------------------- 61.5/61.5 kB 3.2 MB/s eta 0:00:00\n",
      "Collecting outcome (from trio~=0.17->selenium)\n",
      "  Downloading outcome-1.2.0-py2.py3-none-any.whl (9.7 kB)\n",
      "Collecting sniffio (from trio~=0.17->selenium)\n",
      "  Downloading sniffio-1.3.0-py3-none-any.whl (10 kB)\n",
      "Collecting cffi>=1.14 (from trio~=0.17->selenium)\n",
      "  Downloading cffi-1.15.1-cp311-cp311-win_amd64.whl (179 kB)\n",
      "                                              0.0/179.0 kB ? eta -:--:--\n",
      "     ------------------------------------- 179.0/179.0 kB 10.5 MB/s eta 0:00:00\n",
      "Collecting exceptiongroup (from trio-websocket~=0.9->selenium)\n",
      "  Downloading exceptiongroup-1.1.1-py3-none-any.whl (14 kB)\n",
      "Collecting wsproto>=0.14 (from trio-websocket~=0.9->selenium)\n",
      "  Downloading wsproto-1.2.0-py3-none-any.whl (24 kB)\n",
      "Collecting pysocks!=1.5.7,<2.0,>=1.5.6 (from urllib3[socks]<3,>=1.26->selenium)\n",
      "  Downloading PySocks-1.7.1-py3-none-any.whl (16 kB)\n",
      "Collecting pycparser (from cffi>=1.14->trio~=0.17->selenium)\n",
      "  Downloading pycparser-2.21-py2.py3-none-any.whl (118 kB)\n",
      "                                              0.0/118.7 kB ? eta -:--:--\n",
      "     -------------------------------------- 118.7/118.7 kB 7.2 MB/s eta 0:00:00\n",
      "Collecting h11<1,>=0.9.0 (from wsproto>=0.14->trio-websocket~=0.9->selenium)\n",
      "  Downloading h11-0.14.0-py3-none-any.whl (58 kB)\n",
      "                                              0.0/58.3 kB ? eta -:--:--\n",
      "     ---------------------------------------- 58.3/58.3 kB 3.2 MB/s eta 0:00:00\n",
      "Installing collected packages: sortedcontainers, urllib3, sniffio, pysocks, pycparser, idna, h11, exceptiongroup, certifi, attrs, async-generator, wsproto, outcome, cffi, trio, trio-websocket, selenium\n",
      "Successfully installed async-generator-1.10 attrs-23.1.0 certifi-2023.5.7 cffi-1.15.1 exceptiongroup-1.1.1 h11-0.14.0 idna-3.4 outcome-1.2.0 pycparser-2.21 pysocks-1.7.1 selenium-4.10.0 sniffio-1.3.0 sortedcontainers-2.4.0 trio-0.22.0 trio-websocket-0.10.3 urllib3-2.0.3 wsproto-1.2.0\n"
     ]
    }
   ],
   "source": [
    "!pip install selenium"
   ]
  },
  {
   "cell_type": "code",
   "execution_count": 1,
   "metadata": {},
   "outputs": [],
   "source": [
    "# 모듈 임포트\n",
    "from selenium import webdriver"
   ]
  },
  {
   "attachments": {},
   "cell_type": "markdown",
   "metadata": {},
   "source": [
    "##### Chromedriver 설치\n",
    "\n",
    "사이트 : https://sites.google.com/chromium.org/driver/downloads\n",
    "\n",
    "- 자신의 크롬버전에 맞는 크롬드라이버 다운로드\n",
    "- (windows 상) crhomedriver.exe 를 임의 경로에 붙여넣기\n",
    "- 파이썬 상에서 크롬브라우저를 컨트롤\n",
    "\n",
    "- 설정\n",
    "```shell\n",
    "> echo %PATH%\n",
    "# 아래의 경로에 chromedriver.exe 위치\n",
    "> setx PATH \"%PATH%;C:\\WebDriver\\bin\"\n",
    "> chromedriver.exe --version\n",
    "```\n",
    "\n",
    "- selenium 4.10.0 버전 이후 - 위와 같이 시스템정보에 경로 설정 후\n",
    "```python\n",
    "# driver = webdriver.Chrome('C:/WebDriver/bin/chromedriver.exe') 더이상 사용안함\n",
    "driver = webdriver.Chrome() # 변경된 실행법\n",
    "```"
   ]
  },
  {
   "cell_type": "code",
   "execution_count": 3,
   "metadata": {},
   "outputs": [],
   "source": [
    "driver = webdriver.Chrome()\n",
    "# 실행 후 크롬이 독립적으로 뜨고, 'Chrome이 자동화된 테스트 소프트웨어에 의해 제어되고 있습니다.' 표시"
   ]
  },
  {
   "cell_type": "code",
   "execution_count": 6,
   "metadata": {},
   "outputs": [],
   "source": [
    "url = 'https://www.youtube.com'\n",
    "driver.get(url)"
   ]
  },
  {
   "cell_type": "code",
   "execution_count": null,
   "metadata": {},
   "outputs": [],
   "source": [
    "html = driver.page_source\n",
    "html\n",
    "# html 소스가 너무 길어서 출력 삭제"
   ]
  }
 ],
 "metadata": {
  "kernelspec": {
   "display_name": "Python 3",
   "language": "python",
   "name": "python3"
  },
  "language_info": {
   "codemirror_mode": {
    "name": "ipython",
    "version": 3
   },
   "file_extension": ".py",
   "mimetype": "text/x-python",
   "name": "python",
   "nbconvert_exporter": "python",
   "pygments_lexer": "ipython3",
   "version": "3.11.4"
  },
  "orig_nbformat": 4,
  "vscode": {
   "interpreter": {
    "hash": "5238573367df39f7286bb46f9ff5f08f63a01a80960060ce41e3c79b190280fa"
   }
  }
 },
 "nbformat": 4,
 "nbformat_minor": 2
}
