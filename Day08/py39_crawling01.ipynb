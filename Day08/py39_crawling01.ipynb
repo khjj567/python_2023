{
 "cells": [
  {
   "attachments": {},
   "cell_type": "markdown",
   "metadata": {},
   "source": [
    "#### 멜론 노래순위 정보 크롤링\n",
    "\n",
    "##### 크롬드라이버 "
   ]
  },
  {
   "cell_type": "code",
   "execution_count": 61,
   "metadata": {},
   "outputs": [],
   "source": [
    "# 크롬드라이버로 크롬 열기\n",
    "from selenium import webdriver\n",
    "\n",
    "driver = webdriver.Chrome()"
   ]
  },
  {
   "cell_type": "code",
   "execution_count": 62,
   "metadata": {},
   "outputs": [],
   "source": [
    "# 멜론차트로 진입\n",
    "url = 'https://www.melon.com/chart/index.htm'\n",
    "driver.get(url)"
   ]
  },
  {
   "attachments": {},
   "cell_type": "markdown",
   "metadata": {},
   "source": [
    "##### 뷰티풀수프로 웹 크롤링"
   ]
  },
  {
   "cell_type": "code",
   "execution_count": 3,
   "metadata": {},
   "outputs": [],
   "source": [
    "# beautifulSoup로 HTML 다운로드\n",
    "from bs4 import BeautifulSoup\n",
    "\n",
    "html = driver.page_source\n",
    "soup = BeautifulSoup(html, 'html.parser') # html.parser, xml, lxml, html5lib"
   ]
  },
  {
   "cell_type": "code",
   "execution_count": 8,
   "metadata": {},
   "outputs": [
    {
     "data": {
      "text/plain": [
       "100"
      ]
     },
     "execution_count": 8,
     "metadata": {},
     "output_type": "execute_result"
    }
   ],
   "source": [
    "songs = soup.select('table > tbody > tr')\n",
    "len(songs)"
   ]
  },
  {
   "cell_type": "code",
   "execution_count": 10,
   "metadata": {},
   "outputs": [],
   "source": [
    "song = songs[0]"
   ]
  },
  {
   "cell_type": "code",
   "execution_count": 11,
   "metadata": {},
   "outputs": [
    {
     "data": {
      "text/plain": [
       "[<a class=\"image_typeAll\" href=\"javascript:melon.link.goAlbumDetail('11240232');\" title=\"I feel\">\n",
       " <img alt=\"I feel - 페이지 이동\" height=\"60\" onerror=\"WEBPOCIMG.defaultAlbumImg(this);\" src=\"https://cdnimg.melon.co.kr/cm2/album/images/112/40/232/11240232_20230509151820_500.jpg/melon/resize/120/quality/80/optimize\" width=\"60\"/>\n",
       " <span class=\"bg_album_frame\"></span>\n",
       " </a>,\n",
       " <a class=\"btn button_icons type03 song_info\" href=\"javascript:melon.link.goSongDetail('36430773');\" title=\"퀸카 (Queencard) 곡정보\"><span class=\"none\">곡정보</span></a>,\n",
       " <a href=\"javascript:melon.play.playSong('1000002721',36430773);\" title=\"퀸카 (Queencard) 재생\">퀸카 (Queencard)</a>,\n",
       " <a href=\"javascript:melon.link.goArtistDetail('2137482');\" title=\"(여자)아이들 - 페이지 이동\">(여자)아이들</a>,\n",
       " <a href=\"javascript:melon.link.goArtistDetail('2137482');\" title=\"(여자)아이들 - 페이지 이동\">(여자)아이들</a>,\n",
       " <a href=\"javascript:melon.link.goAlbumDetail('11240232');\" title=\"I feel - 페이지 이동\">I feel</a>]"
      ]
     },
     "execution_count": 11,
     "metadata": {},
     "output_type": "execute_result"
    }
   ],
   "source": [
    "song.select('a')"
   ]
  },
  {
   "cell_type": "code",
   "execution_count": 37,
   "metadata": {},
   "outputs": [
    {
     "data": {
      "text/plain": [
       "'1'"
      ]
     },
     "execution_count": 37,
     "metadata": {},
     "output_type": "execute_result"
    }
   ],
   "source": [
    "song.select('span.rank')[0].text"
   ]
  },
  {
   "cell_type": "code",
   "execution_count": 23,
   "metadata": {},
   "outputs": [
    {
     "data": {
      "text/plain": [
       "[<span class=\"none\">단계 상승</span>]"
      ]
     },
     "execution_count": 23,
     "metadata": {},
     "output_type": "execute_result"
    }
   ],
   "source": [
    "songs[8].select('span.rank_wrap > span > span')"
   ]
  },
  {
   "cell_type": "code",
   "execution_count": 27,
   "metadata": {},
   "outputs": [
    {
     "data": {
      "text/plain": [
       "[<span class=\"up\">1</span>]"
      ]
     },
     "execution_count": 27,
     "metadata": {},
     "output_type": "execute_result"
    }
   ],
   "source": [
    "songs[8].select('span.rank_wrap > span.up')"
   ]
  },
  {
   "cell_type": "code",
   "execution_count": 33,
   "metadata": {},
   "outputs": [
    {
     "data": {
      "text/plain": [
       "'우리들의 블루스'"
      ]
     },
     "execution_count": 33,
     "metadata": {},
     "output_type": "execute_result"
    }
   ],
   "source": [
    "songs[8].select('span > a')[0].text"
   ]
  },
  {
   "cell_type": "code",
   "execution_count": 42,
   "metadata": {},
   "outputs": [
    {
     "data": {
      "text/plain": [
       "'임영웅'"
      ]
     },
     "execution_count": 42,
     "metadata": {},
     "output_type": "execute_result"
    }
   ],
   "source": [
    "songs[8].select('span.checkEllipsis > a')[0].text"
   ]
  },
  {
   "cell_type": "code",
   "execution_count": 49,
   "metadata": {},
   "outputs": [
    {
     "data": {
      "text/plain": [
       "[<span class=\"rank\">9</span>,\n",
       " <span class=\"none\">위</span>,\n",
       " <span class=\"rank_wrap\" title=\"1단계 상승\">\n",
       " <span class=\"bullet_icons rank_up\"><span class=\"none\">단계 상승</span></span>\n",
       " <span class=\"up\">1</span>\n",
       " </span>,\n",
       " <span class=\"bullet_icons rank_up\"><span class=\"none\">단계 상승</span></span>,\n",
       " <span class=\"none\">단계 상승</span>,\n",
       " <span class=\"up\">1</span>,\n",
       " <span class=\"bg_album_frame\"></span>,\n",
       " <span class=\"none\">곡정보</span>,\n",
       " <span>\n",
       " <a href=\"javascript:melon.play.playSong('1000002721',34908740);\" title=\"우리들의 블루스 재생\">우리들의 블루스</a>\n",
       " </span>,\n",
       " <span class=\"checkEllipsis\" style=\"display: none;\"><a href=\"javascript:melon.link.goArtistDetail('994944');\" title=\"임영웅 - 페이지 이동\">임영웅</a></span>,\n",
       " <span class=\"odd_span\">좋아요</span>,\n",
       " <span class=\"cnt\">\n",
       " <span class=\"none\">총건수</span>\n",
       " 95,239</span>,\n",
       " <span class=\"none\">총건수</span>,\n",
       " <span class=\"none\">듣기</span>,\n",
       " <span class=\"none\">담기</span>,\n",
       " <span class=\"none\">다운로드</span>,\n",
       " <span class=\"none\">뮤직비디오</span>]"
      ]
     },
     "execution_count": 49,
     "metadata": {},
     "output_type": "execute_result"
    }
   ],
   "source": [
    "songs[8].select('span')"
   ]
  },
  {
   "cell_type": "code",
   "execution_count": 52,
   "metadata": {},
   "outputs": [
    {
     "name": "stdout",
     "output_type": "stream",
     "text": [
      "1 퀸카 (Queencard) (여자)아이들\n",
      "2 I AM IVE (아이브)\n",
      "3 Spicy aespa\n",
      "4 이브, 프시케 그리고 푸른 수염의 아내 LE SSERAFIM (르세라핌)\n",
      "5 UNFORGIVEN (feat. Nile Rodgers) LE SSERAFIM (르세라핌)\n",
      "6 Kitsch IVE (아이브)\n",
      "7 사랑은 늘 도망가 임영웅\n",
      "8 모래 알갱이 임영웅\n",
      "9 우리들의 블루스 임영웅\n",
      "10 헤어지자 말해요 박재정\n",
      "11 다시 만날 수 있을까 임영웅\n",
      "12 Hype boy NewJeans\n",
      "13 무지개 임영웅\n",
      "14 꽃 지수 (JISOO)\n",
      "15 London Boy 임영웅\n",
      "16 손오공 세븐틴 (SEVENTEEN)\n",
      "17 이제 나만 믿어요 임영웅\n",
      "18 Polaroid 임영웅\n",
      "19 아버지 임영웅\n",
      "20 Ditto NewJeans\n",
      "21 인생찬가 임영웅\n",
      "22 A bientot 임영웅\n",
      "23 Cupid FIFTY FIFTY\n",
      "24 손이 참 곱던 그대 임영웅\n",
      "25 사랑해 진짜 임영웅\n",
      "26 연애편지 임영웅\n",
      "27 OMG NewJeans\n",
      "28 Allergy (여자)아이들\n",
      "29 사건의 지평선 윤하 (YOUNHA)\n",
      "30 파이팅 해야지 (Feat. 이영지) 부석순 (SEVENTEEN)\n",
      "31 보금자리 임영웅\n",
      "32 I Don't Think That I Like Her Charlie Puth\n",
      "33 Dangerously Charlie Puth\n",
      "34 Candy NCT DREAM\n",
      "35 After LIKE IVE (아이브)\n",
      "36 물론 허각\n",
      "37 Dynamite 방탄소년단\n",
      "38 Attention NewJeans\n",
      "39 Teddy Bear STAYC(스테이씨)\n",
      "40 LOVE DIVE IVE (아이브)\n",
      "41 심(心) DK(디셈버)\n",
      "42 Take Two 방탄소년단\n",
      "43 사랑..그게 뭔데 지아\n",
      "44 사랑하지 않아서 그랬어 임한별\n",
      "45 Butter 방탄소년단\n",
      "46 Broken Melodies NCT DREAM\n",
      "47 사람 Pt.2 (feat. 아이유) Agust D\n",
      "48 Like Crazy 지민\n",
      "49 HARD SHINee (샤이니)\n",
      "50 잠깐 시간 될까 이무진\n",
      "51 ANTIFRAGILE LE SSERAFIM (르세라핌)\n",
      "52 봄날 방탄소년단\n",
      "53 나에게 그대만이 탑현\n",
      "54 Heaven(2023) 임재현\n",
      "55 사랑인가 봐 멜로망스\n",
      "56 Permission to Dance 방탄소년단\n",
      "57 The Planet 방탄소년단\n",
      "58 사실말야내가말야그게그러니까말이야 케이시 (Kassy)\n",
      "59 찬란한 하루 멜로망스\n",
      "60 너의 모든 순간 성시경\n",
      "61 빛이 나는 너에게 던 (DAWN)\n",
      "62 NIGHT DANCER imase\n",
      "63 Angel Pt. 1 (Feat. Kodak Black, NLE Choppa, JVKE, Muni Long) Fast & Furious: The Fast Saga\n",
      "64 Dreamers [Music from the FIFA World Cup Qatar 2022 Official Soundtrack] (Feat. FIFA Sound) 정국\n",
      "65 건물 사이에 피어난 장미 (Rose Blossom) H1-KEY (하이키)\n",
      "66 Thirsty aespa\n",
      "67 첫 키스에 내 심장은 120BPM 경서\n",
      "68 사랑의 바보 제이세라\n",
      "69 KNOCK 이채연\n",
      "70 That's Hilarious Charlie Puth\n",
      "71 STAY The Kid LAROI\n",
      "72 TOMBOY (여자)아이들\n",
      "73 그중에 그대를 만나 김호중\n",
      "74 부동의 첫사랑 10CM\n",
      "75 on the street (with J. Cole) j-hope\n",
      "76 Nxde (여자)아이들\n",
      "77 한사람만 (2023) (여름날 우리 X 이홍기 (FT아일랜드)) 이홍기 (FT아일랜드)\n",
      "78 사랑하지 않아서 그랬니 지아\n",
      "79 안녕이라고 말하지마 V.O.S\n",
      "80 취중고백 김민석 (멜로망스)\n",
      "81 해요 (2022) #안녕\n",
      "82 나의 바람 (Wind And Wish) 비투비\n",
      "83 That’s Not How This Works (feat. Dan + Shay) Charlie Puth\n",
      "84 Monologue 테이\n",
      "85 CHRISTIAN Zior Park\n",
      "86 다정히 내 이름을 부르면 경서예지\n",
      "87 사랑하기 싫어 지아\n",
      "88 FRIEND THE END 볼빨간사춘기\n",
      "89 한강에서 (Feat. BIG Naughty) 폴킴\n",
      "90 LOCKDOWN 이세계아이돌\n",
      "91 Love Me Like This NMIXX\n",
      "92 그라데이션 10CM\n",
      "93 ELEVEN IVE (아이브)\n",
      "94 FEARLESS LE SSERAFIM (르세라핌)\n",
      "95 내가 아니라도 주호\n",
      "96 Shut Down BLACKPINK\n",
      "97 정이라고 하자 (Feat. 10CM) BIG Naughty (서동현)\n",
      "98 당신을 만나 김호중\n",
      "99 Say I Love You 우디 (Woody)\n",
      "100 Pink Venom BLACKPINK\n"
     ]
    }
   ],
   "source": [
    "for song in songs:\n",
    "    rank = song.select('span.rank')[0].text    \n",
    "    title = song.select('span > a')[0].text\n",
    "    singer = song.select('span.checkEllipsis > a')[0].text    \n",
    "\n",
    "    print(rank, title, singer)"
   ]
  },
  {
   "cell_type": "code",
   "execution_count": 56,
   "metadata": {},
   "outputs": [],
   "source": [
    "result = []\n",
    "for song in songs:\n",
    "    rank = song.select('span.rank')[0].text    \n",
    "    title = song.select('span > a')[0].text\n",
    "    singer = song.select('span.checkEllipsis > a')[0].text    \n",
    "    result.append([rank, title, singer])"
   ]
  },
  {
   "cell_type": "code",
   "execution_count": 57,
   "metadata": {},
   "outputs": [],
   "source": [
    "import pandas as pd"
   ]
  },
  {
   "cell_type": "code",
   "execution_count": null,
   "metadata": {},
   "outputs": [],
   "source": [
    "df = pd.DataFrame(result)\n",
    "df"
   ]
  },
  {
   "cell_type": "code",
   "execution_count": null,
   "metadata": {},
   "outputs": [],
   "source": [
    "df.columns = ['순위', '곡명', '가수명']\n",
    "df"
   ]
  },
  {
   "cell_type": "code",
   "execution_count": 60,
   "metadata": {},
   "outputs": [],
   "source": [
    "# 데이터프레임을 csv 저장\n",
    "df.to_csv('./melon_ranking_100.csv', encoding='utf-8', index=False)"
   ]
  },
  {
   "attachments": {},
   "cell_type": "markdown",
   "metadata": {},
   "source": [
    "##### 셀레니움 만으로 크롤링"
   ]
  },
  {
   "cell_type": "code",
   "execution_count": 107,
   "metadata": {},
   "outputs": [
    {
     "name": "stdout",
     "output_type": "stream",
     "text": [
      "1 퀸카 (Queencard) (여자)아이들\n",
      "2 I AM IVE (아이브)\n",
      "3 Spicy aespa\n",
      "4 이브, 프시케 그리고 푸른 수염의 아내 LE SSERAFIM (르세라핌)\n",
      "5 UNFORGIVEN (feat. Nile Rodgers) LE SSERAFIM (르세라핌)\n",
      "6 Kitsch IVE (아이브)\n",
      "7 사랑은 늘 도망가 임영웅\n",
      "8 헤어지자 말해요 박재정\n",
      "9 모래 알갱이 임영웅\n",
      "10 Hype boy NewJeans\n",
      "11 우리들의 블루스 임영웅\n",
      "12 다시 만날 수 있을까 임영웅\n",
      "13 손오공 세븐틴 (SEVENTEEN)\n",
      "14 꽃 지수 (JISOO)\n",
      "15 Ditto NewJeans\n",
      "16 무지개 임영웅\n",
      "17 London Boy 임영웅\n",
      "18 이제 나만 믿어요 임영웅\n",
      "19 Polaroid 임영웅\n",
      "20 아버지 임영웅\n",
      "21 Cupid FIFTY FIFTY\n",
      "22 인생찬가 임영웅\n",
      "23 OMG NewJeans\n",
      "24 A bientot 임영웅\n",
      "25 손이 참 곱던 그대 임영웅\n",
      "26 사랑해 진짜 임영웅\n",
      "27 연애편지 임영웅\n",
      "28 사건의 지평선 윤하 (YOUNHA)\n",
      "29 I Don't Think That I Like Her Charlie Puth\n",
      "30 Candy NCT DREAM\n",
      "31 Dangerously Charlie Puth\n",
      "32 Allergy (여자)아이들\n",
      "33 파이팅 해야지 (Feat. 이영지) 부석순 (SEVENTEEN)\n",
      "34 After LIKE IVE (아이브)\n",
      "35 Attention NewJeans\n",
      "36 Dynamite 방탄소년단\n",
      "37 LOVE DIVE IVE (아이브)\n",
      "38 보금자리 임영웅\n",
      "39 Teddy Bear STAYC(스테이씨)\n",
      "40 물론 허각\n",
      "41 심(心) DK(디셈버)\n",
      "42 사랑하지 않아서 그랬어 임한별\n",
      "43 Butter 방탄소년단\n",
      "44 ANTIFRAGILE LE SSERAFIM (르세라핌)\n",
      "45 사랑..그게 뭔데 지아\n",
      "46 Take Two 방탄소년단\n",
      "47 사람 Pt.2 (feat. 아이유) Agust D\n",
      "48 봄날 방탄소년단\n",
      "49 Like Crazy 지민\n",
      "50 사랑인가 봐 멜로망스\n",
      "51 잠깐 시간 될까 이무진\n",
      "52 Broken Melodies NCT DREAM\n",
      "53 Permission to Dance 방탄소년단\n",
      "54 나에게 그대만이 탑현\n",
      "55 너의 모든 순간 성시경\n",
      "56 Heaven(2023) 임재현\n",
      "57 NIGHT DANCER imase\n",
      "58 빛이 나는 너에게 던 (DAWN)\n",
      "59 The Planet 방탄소년단\n",
      "60 건물 사이에 피어난 장미 (Rose Blossom) H1-KEY (하이키)\n",
      "61 HARD SHINee (샤이니)\n",
      "62 사실말야내가말야그게그러니까말이야 케이시 (Kassy)\n",
      "63 Dreamers [Music from the FIFA World Cup Qatar 2022 Official Soundtrack] (Feat. FIFA Sound) 정국, 방탄소년단\n",
      "64 Thirsty aespa\n",
      "65 Angel Pt. 1 (Feat. Kodak Black, NLE Choppa, JVKE, Muni Long) Fast & Furious: The Fast Saga, 지민\n",
      "66 That's Hilarious Charlie Puth\n",
      "67 찬란한 하루 멜로망스\n",
      "68 KNOCK 이채연\n",
      "69 STAY The Kid LAROI, Justin Bieber\n",
      "70 첫 키스에 내 심장은 120BPM 경서\n",
      "71 TOMBOY (여자)아이들\n",
      "72 Nxde (여자)아이들\n",
      "73 사랑의 바보 제이세라\n",
      "74 부동의 첫사랑 10CM\n",
      "75 해요 (2022) #안녕\n",
      "76 취중고백 김민석 (멜로망스)\n",
      "77 나의 바람 (Wind And Wish) 비투비\n",
      "78 안녕이라고 말하지마 V.O.S\n",
      "79 한사람만 (2023) (여름날 우리 X 이홍기 (FT아일랜드)) 이홍기 (FT아일랜드)\n",
      "80 on the street (with J. Cole) j-hope, J. Cole\n",
      "81 That’s Not How This Works (feat. Dan + Shay) Charlie Puth\n",
      "82 사랑하기 싫어 지아\n",
      "83 Monologue 테이\n",
      "84 그라데이션 10CM\n",
      "85 CHRISTIAN Zior Park\n",
      "86 FRIEND THE END 볼빨간사춘기\n",
      "87 사랑하지 않아서 그랬니 지아\n",
      "88 Love Me Like This NMIXX\n",
      "89 다정히 내 이름을 부르면 경서예지, 전건호\n",
      "90 한강에서 (Feat. BIG Naughty) 폴킴\n",
      "91 그중에 그대를 만나 김호중\n",
      "92 ELEVEN IVE (아이브)\n",
      "93 FEARLESS LE SSERAFIM (르세라핌)\n",
      "94 Shut Down BLACKPINK\n",
      "95 LOCKDOWN 이세계아이돌\n",
      "96 정이라고 하자 (Feat. 10CM) BIG Naughty (서동현)\n",
      "97 내가 아니라도 주호\n",
      "98 Say I Love You 우디 (Woody)\n",
      "99 Pink Venom BLACKPINK\n",
      "100 새삥 (Prod. ZICO) (Feat. 호미들) 지코 (ZICO)\n"
     ]
    }
   ],
   "source": [
    "from selenium.webdriver.common.by import By\n",
    "\n",
    "s_songs = driver.find_elements(By.XPATH, '//table/tbody/tr')\n",
    "\n",
    "for song in s_songs:    \n",
    "    # print(song.text.split('\\n'))\n",
    "    tmp = song.text.split('\\n')    \n",
    "    rank = tmp[0]\n",
    "    title = tmp[-5]\n",
    "    singer = tmp[-4]\n",
    "    print(rank, title, singer)"
   ]
  },
  {
   "attachments": {},
   "cell_type": "markdown",
   "metadata": {},
   "source": [
    "##### 벅스 인기차트 100 크롤링"
   ]
  },
  {
   "cell_type": "code",
   "execution_count": 108,
   "metadata": {},
   "outputs": [],
   "source": [
    "driver = webdriver.Chrome()\n",
    "driver.get('https://music.bugs.co.kr/chart')"
   ]
  },
  {
   "cell_type": "code",
   "execution_count": 109,
   "metadata": {},
   "outputs": [],
   "source": [
    "## 벅스차트 html 가져오기\n",
    "html = driver.page_source\n",
    "soup = BeautifulSoup(html, 'html.parser')"
   ]
  },
  {
   "cell_type": "code",
   "execution_count": 115,
   "metadata": {},
   "outputs": [
    {
     "name": "stdout",
     "output_type": "stream",
     "text": [
      "100\n"
     ]
    }
   ],
   "source": [
    "# 벅스 페이지 내에 table이 두개존재하므로 table의 클래스명까지 검색해야지 차트100개만 나옴\n",
    "songs = soup.select('table.byChart > tbody > tr')\n",
    "print(len(songs))"
   ]
  },
  {
   "cell_type": "code",
   "execution_count": 129,
   "metadata": {},
   "outputs": [
    {
     "name": "stdout",
     "output_type": "stream",
     "text": [
      "1 퀸카 (Queencard) (여자)아이들\n",
      "2 I AM IVE (아이브)\n",
      "3 HARD SHINee (샤이니)\n",
      "4 Spicy aespa\n",
      "5 이브, 프시케 그리고 푸른 수염의 아내 LE SSERAFIM (르세라핌)\n",
      "6 Kitsch IVE (아이브)\n",
      "7 UNFORGIVEN (feat. Nile Rodgers) LE SSERAFIM (르세라핌)\n",
      "8 Hype Boy NewJeans\n",
      "9 Ditto NewJeans\n",
      "10 Steal The Show (From “엘리멘탈”) Lauv(라우브)\n",
      "11 헤어지자 말해요 박재정\n",
      "12 Cupid FIFTY FIFTY\n",
      "13 손오공 세븐틴(SEVENTEEN)\n",
      "14 OMG NewJeans\n",
      "15 Attention NewJeans\n",
      "16 꽃 지수(JISOO)\n",
      "17 TOMBOY (여자)아이들\n",
      "18 Dangerously Charlie Puth(찰리 푸스)\n",
      "19 KNOCK 이채연\n",
      "20 JUICE SHINee (샤이니)\n",
      "21 After LIKE IVE (아이브)\n",
      "22 사건의 지평선 윤하(Younha/ユンナ)\n",
      "23 모든 날, 모든 순간 (Every day, Every Moment) 폴킴(Paul Kim)\n",
      "24 Off My Face Justin Bieber(저스틴 비버)\n",
      "25 Thirsty aespa\n",
      "26 건물 사이에 피어난 장미 (Rose Blossom) H1-KEY (하이키)\n",
      "27 When I Get Old Christopher(크리스토퍼)\n",
      "28 I Don’t Think That I Like Her Charlie Puth(찰리 푸스)\n",
      "29 STAY The Kid LAROI\n",
      "30 너의 모든 순간 성시경\n",
      "31 LOVE DIVE IVE (아이브)\n",
      "32 잠깐 시간 될까 이무진\n",
      "33 ANTIFRAGILE LE SSERAFIM (르세라핌)\n",
      "34 Shut Down BLACKPINK\n",
      "35 Cupid (Twin Ver.) FIFTY FIFTY\n",
      "36 한 페이지가 될 수 있게 DAY6 (데이식스)\n",
      "37 Love Me Like This NMIXX\n",
      "38 그라데이션 10CM\n",
      "39 빛이 나는 너에게 던 (DAWN)\n",
      "40 10X SHINee (샤이니)\n",
      "41 FEARLESS LE SSERAFIM (르세라핌)\n",
      "42 오르트구름 윤하(Younha/ユンナ)\n",
      "43 Cookie NewJeans\n",
      "44 파이팅 해야지 (Feat. 이영지) 부석순(SEVENTEEN)\n",
      "45 주저하는 연인들을 위해 잔나비\n",
      "46 Allergy (여자)아이들\n",
      "47 Teddy Bear STAYC(스테이씨)\n",
      "48 That's Hilarious Charlie Puth(찰리 푸스)\n",
      "49 Candy NCT DREAM\n",
      "50 Broken Melodies NCT DREAM\n",
      "51 심(心) DK(디셈버)\n",
      "52 Pink Venom BLACKPINK\n",
      "53 Satellite SHINee (샤이니)\n",
      "54 CHRISTIAN 지올팍(Zior Park)\n",
      "55 That’s Not How This Works (feat. Dan + Shay) Charlie Puth(찰리 푸스)\n",
      "56 ELEVEN IVE (아이브)\n",
      "57 INVU 태연 (TAEYEON)\n",
      "58 The Feeling SHINee (샤이니)\n",
      "59 나의 X에게 경서\n",
      "60 나에게 그대만이 탑현\n",
      "61 한강에서 (Feat. BIG Naughty) 폴킴(Paul Kim)\n",
      "62 사랑인가 봐 멜로망스(MeloMance)\n",
      "63 특 Stray Kids (스트레이 키즈)\n",
      "64 Identity SHINee (샤이니)\n",
      "65 Salty & Sweet aespa\n",
      "66 사실말야내가말야그게그러니까말이야 케이시\n",
      "67 다정히 내 이름을 부르면 경서예지\n",
      "68 Like It SHINee (샤이니)\n",
      "69 희재 이홍기 (FT아일랜드)\n",
      "70 물론 허각\n",
      "71 Monologue 테이(Tei)\n",
      "72 Heaven(2023) 임재현\n",
      "73 그때 그 순간 그대로 (그그그) WSG워너비 (가야G)\n",
      "74 불면증 (Insomnia) SHINee (샤이니)\n",
      "75 Nxde (여자)아이들\n",
      "76 나의 바람 (Wind And Wish) 비투비\n",
      "77 정이라고 하자 (Feat. 10CM) BIG Naughty (서동현)\n",
      "78 Dynamite 방탄소년단\n",
      "79 Poppy (Korean Ver.) STAYC(스테이씨)\n",
      "80 부동의 첫사랑 10CM\n",
      "81 취중고백 김민석 (멜로망스)\n",
      "82 WHEN I MOVE 카라(Kara)\n",
      "83 VIBE (feat. Jimin of BTS) 태양\n",
      "84 Gravity SHINee (샤이니)\n",
      "85 Sweet Misery SHINee (샤이니)\n",
      "86 찬란한 하루 멜로망스(MeloMance)\n",
      "87 해요 (2022) #안녕\n",
      "88 도깨비불 (Illusion) aespa\n",
      "89 드라마 아이유(IU)\n",
      "90 사랑의 바보 제이세라(J-Cera)\n",
      "91 사랑은 늘 도망가 임영웅\n",
      "92 Feel My Rhythm Red Velvet (레드벨벳)\n",
      "93 strawberry moon 아이유(IU)\n",
      "94 사랑하지 않아서 그랬니 지아(Zia)\n",
      "95 Say I Love You 우디(Woody)\n",
      "96 사랑..그게 뭔데 지아(Zia)\n",
      "97 FRIEND THE END 볼빨간사춘기\n",
      "98 NOT SORRY (Feat. pH-1) (Prod. by Slom) 이영지\n",
      "99 LOVE me BE'O (비오)\n",
      "100 딱 10CM만 10CM\n"
     ]
    }
   ],
   "source": [
    "for song in songs:\n",
    "    rank = song.select('td > div.ranking > strong')[0].text\n",
    "    title = song.select('p.title > a')[0].text\n",
    "    singer = song.select('p.artist > a')[0].text\n",
    "    print(rank, title, singer)"
   ]
  }
 ],
 "metadata": {
  "kernelspec": {
   "display_name": "Python 3",
   "language": "python",
   "name": "python3"
  },
  "language_info": {
   "codemirror_mode": {
    "name": "ipython",
    "version": 3
   },
   "file_extension": ".py",
   "mimetype": "text/x-python",
   "name": "python",
   "nbconvert_exporter": "python",
   "pygments_lexer": "ipython3",
   "version": "3.11.4"
  },
  "orig_nbformat": 4,
  "vscode": {
   "interpreter": {
    "hash": "5238573367df39f7286bb46f9ff5f08f63a01a80960060ce41e3c79b190280fa"
   }
  }
 },
 "nbformat": 4,
 "nbformat_minor": 2
}
