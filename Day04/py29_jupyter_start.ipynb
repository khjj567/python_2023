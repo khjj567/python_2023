{
 "cells": [
  {
   "attachments": {},
   "cell_type": "markdown",
   "metadata": {},
   "source": [
    "# 주피터 노트북 기본\n",
    "\n",
    "## 셀 추가/삭제\n",
    "- 코드버튼 클릭 - Python 코드 셀 추가\n",
    "- Markdown버튼 클릭 = 마크다운 셀 추가\n",
    "\n",
    "### 단축키\n",
    "- Ctrl + Enter 셀 실행 \n",
    "- Shift + Enter 셀 실행 아래 같은 셀 추가\n",
    "- Enter 현재 셀 진입\n",
    "- ESC 현재 셀 빠져나가기\n",
    "- b 현재 셀 아래 세 셀 추가\n",
    "- a 현재 셀 위 세 셀 추가\n",
    "- m 현재 셀(python) -> 마크다운 셀 변경\n",
    "- y 현재 셀(Markdown) -> 파이선 셀 변경\n",
    "- Shift + L 셀 라인번호 표시 토글"
   ]
  },
  {
   "cell_type": "code",
   "execution_count": 1,
   "metadata": {},
   "outputs": [
    {
     "name": "stdout",
     "output_type": "stream",
     "text": [
      "여기는 파이썬 셀\n"
     ]
    }
   ],
   "source": [
    "print('여기는 파이썬 셀')"
   ]
  },
  {
   "attachments": {},
   "cell_type": "markdown",
   "metadata": {},
   "source": [
    "## 일반출력\n",
    "```python\n",
    "print('Hello, python!') # 마크다운 코드추가\n",
    "```"
   ]
  },
  {
   "cell_type": "code",
   "execution_count": 2,
   "metadata": {},
   "outputs": [
    {
     "name": "stdout",
     "output_type": "stream",
     "text": [
      "Hi~\n"
     ]
    }
   ],
   "source": [
    "print('Hi~')"
   ]
  },
  {
   "attachments": {},
   "cell_type": "markdown",
   "metadata": {},
   "source": [
    "### 이미지 추가\n",
    "\n",
    "> **인용** 좀 하세요~ 제발\n",
    "\n",
    "<img src=\"https://dojang.io/pluginfile.php/14085/mod_page/content/7/046011_.png\" width=\"400\">\n",
    "\n",
    "<img src=\"https://raw.githubusercontent.com/hugoMGSung/pknu_aspnet_2023/main/images/restapi02.gif\" width=\"400\">\n",
    "\n",
    "\n",
    "---\n",
    "\n",
    "|제목|내용|비고|\n",
    "|:-----|----------:|:----:|\n",
    "|제목1|내용1|비고1|\n",
    "|제목2|내용2|비고2|\n",
    "|제목3|내용3|비고3|\n",
    "|제목4|내용입니다4|비고4|\n",
    "|제목입니다.|내용4|비고4예용|"
   ]
  },
  {
   "attachments": {},
   "cell_type": "markdown",
   "metadata": {},
   "source": [
    "### 주피터 노트북 디버깅\n",
    "\n",
    "- 브레이크 포인트(중단점 클릭)\n",
    "- Ctrl + Shift + Alt + Enter\n",
    "    - py 디버깅과 동일(F10, F11) 사용"
   ]
  },
  {
   "cell_type": "code",
   "execution_count": 3,
   "metadata": {},
   "outputs": [],
   "source": [
    "# 나누기 함수\n",
    "def divide(x, y):\n",
    "    result = ''\n",
    "    try:\n",
    "        result = x // y\n",
    "    except Exception as e:\n",
    "        print(f'예외발생 : {e}')\n",
    "    \n",
    "    print('나누기 완료')\n",
    "    return result\n",
    "\n"
   ]
  },
  {
   "cell_type": "code",
   "execution_count": 4,
   "metadata": {},
   "outputs": [
    {
     "name": "stdout",
     "output_type": "stream",
     "text": [
      "예외발생 : integer division or modulo by zero\n",
      "나누기 완료\n",
      "\n"
     ]
    }
   ],
   "source": [
    "print(divide(7, 0))"
   ]
  },
  {
   "attachments": {},
   "cell_type": "markdown",
   "metadata": {},
   "source": [
    "### 출력 python과 차이점\n",
    "\n",
    "변수 출력할때 \n",
    "- 변수명만 입력 후 실행 결과출력\n",
    "- print() 도 출력\n",
    "    - 단, 변수만 쓸때는 제일마지막 변수만 출력\n",
    "    - 여러번 출력하고 싶으면 print() 사용할 것\n",
    "    - 하지만, 변수를 그냥출력할 때와 print() 출력때랑 결과 다름!"
   ]
  },
  {
   "cell_type": "code",
   "execution_count": 5,
   "metadata": {},
   "outputs": [
    {
     "data": {
      "text/plain": [
       "'Hello Python!'"
      ]
     },
     "execution_count": 5,
     "metadata": {},
     "output_type": "execute_result"
    }
   ],
   "source": [
    "a = 'Hello Python!'\n",
    "a"
   ]
  },
  {
   "cell_type": "code",
   "execution_count": 6,
   "metadata": {},
   "outputs": [
    {
     "name": "stdout",
     "output_type": "stream",
     "text": [
      "Hello Python!\n",
      "Hello Python!\n"
     ]
    }
   ],
   "source": [
    "print(a)\n",
    "print(a)"
   ]
  },
  {
   "attachments": {},
   "cell_type": "markdown",
   "metadata": {},
   "source": [
    "#### 경로 문제 해결\n",
    "\n",
    ".py에서의 파일 경로와 .ipynb 경로가 다름\n",
    "- .py  : ./Day04/dummy_members.csv\n",
    "- .ipynb : ./dummy_members.csv"
   ]
  },
  {
   "cell_type": "code",
   "execution_count": 7,
   "metadata": {},
   "outputs": [
    {
     "data": {
      "text/html": [
       "<div>\n",
       "<style scoped>\n",
       "    .dataframe tbody tr th:only-of-type {\n",
       "        vertical-align: middle;\n",
       "    }\n",
       "\n",
       "    .dataframe tbody tr th {\n",
       "        vertical-align: top;\n",
       "    }\n",
       "\n",
       "    .dataframe thead th {\n",
       "        text-align: right;\n",
       "    }\n",
       "</style>\n",
       "<table border=\"1\" class=\"dataframe\">\n",
       "  <thead>\n",
       "    <tr style=\"text-align: right;\">\n",
       "      <th></th>\n",
       "      <th>Unnamed: 0</th>\n",
       "      <th>이름</th>\n",
       "      <th>우편번호</th>\n",
       "      <th>주소</th>\n",
       "      <th>전화번호</th>\n",
       "      <th>이메일</th>\n",
       "    </tr>\n",
       "  </thead>\n",
       "  <tbody>\n",
       "    <tr>\n",
       "      <th>0</th>\n",
       "      <td>0</td>\n",
       "      <td>안정식</td>\n",
       "      <td>79498</td>\n",
       "      <td>충청북도 파주시 양재천길 (영호김면)</td>\n",
       "      <td>051-415-9143</td>\n",
       "      <td>minjiyang@example.org</td>\n",
       "    </tr>\n",
       "    <tr>\n",
       "      <th>1</th>\n",
       "      <td>1</td>\n",
       "      <td>김성민</td>\n",
       "      <td>34675</td>\n",
       "      <td>강원도 수원시 권선구 테헤란가</td>\n",
       "      <td>019-474-2901</td>\n",
       "      <td>sangceol82@example.com</td>\n",
       "    </tr>\n",
       "    <tr>\n",
       "      <th>2</th>\n",
       "      <td>2</td>\n",
       "      <td>유아름</td>\n",
       "      <td>99541</td>\n",
       "      <td>전라남도 안산시 역삼로 (영길장김면)</td>\n",
       "      <td>02-9414-3830</td>\n",
       "      <td>iyeongjin@example.org</td>\n",
       "    </tr>\n",
       "    <tr>\n",
       "      <th>3</th>\n",
       "      <td>3</td>\n",
       "      <td>박광수</td>\n",
       "      <td>62880</td>\n",
       "      <td>경기도 제천시 잠실로</td>\n",
       "      <td>011-505-0906</td>\n",
       "      <td>eunseogim@example.org</td>\n",
       "    </tr>\n",
       "    <tr>\n",
       "      <th>4</th>\n",
       "      <td>4</td>\n",
       "      <td>이지훈</td>\n",
       "      <td>61498</td>\n",
       "      <td>대전광역시 마포구 선릉0길 (하은이동)</td>\n",
       "      <td>061-504-0120</td>\n",
       "      <td>ganggyeongja@example.org</td>\n",
       "    </tr>\n",
       "    <tr>\n",
       "      <th>5</th>\n",
       "      <td>5</td>\n",
       "      <td>김영식</td>\n",
       "      <td>26333</td>\n",
       "      <td>인천광역시 강동구 반포대53길</td>\n",
       "      <td>033-604-1578</td>\n",
       "      <td>coesiu@example.net</td>\n",
       "    </tr>\n",
       "    <tr>\n",
       "      <th>6</th>\n",
       "      <td>6</td>\n",
       "      <td>이경자</td>\n",
       "      <td>51134</td>\n",
       "      <td>전라북도 광명시 테헤란717거리 (광수이읍)</td>\n",
       "      <td>031-152-4946</td>\n",
       "      <td>gojeongsug@example.com</td>\n",
       "    </tr>\n",
       "    <tr>\n",
       "      <th>7</th>\n",
       "      <td>7</td>\n",
       "      <td>김준호</td>\n",
       "      <td>24038</td>\n",
       "      <td>전라남도 예산군 선릉로</td>\n",
       "      <td>054-797-5796</td>\n",
       "      <td>subingim@example.org</td>\n",
       "    </tr>\n",
       "    <tr>\n",
       "      <th>8</th>\n",
       "      <td>8</td>\n",
       "      <td>조서현</td>\n",
       "      <td>83764</td>\n",
       "      <td>강원도 청주시 서원구 논현가</td>\n",
       "      <td>041-476-0500</td>\n",
       "      <td>seohyeon73@example.net</td>\n",
       "    </tr>\n",
       "    <tr>\n",
       "      <th>9</th>\n",
       "      <td>9</td>\n",
       "      <td>최정희</td>\n",
       "      <td>42789</td>\n",
       "      <td>강원도 양평군 서초대로</td>\n",
       "      <td>042-348-9853</td>\n",
       "      <td>hanareum@example.net</td>\n",
       "    </tr>\n",
       "  </tbody>\n",
       "</table>\n",
       "</div>"
      ],
      "text/plain": [
       "   Unnamed: 0   이름   우편번호                        주소          전화번호  \\\n",
       "0           0  안정식  79498      충청북도 파주시 양재천길 (영호김면)  051-415-9143   \n",
       "1           1  김성민  34675          강원도 수원시 권선구 테헤란가  019-474-2901   \n",
       "2           2  유아름  99541      전라남도 안산시 역삼로 (영길장김면)  02-9414-3830   \n",
       "3           3  박광수  62880               경기도 제천시 잠실로  011-505-0906   \n",
       "4           4  이지훈  61498     대전광역시 마포구 선릉0길 (하은이동)  061-504-0120   \n",
       "5           5  김영식  26333          인천광역시 강동구 반포대53길  033-604-1578   \n",
       "6           6  이경자  51134  전라북도 광명시 테헤란717거리 (광수이읍)  031-152-4946   \n",
       "7           7  김준호  24038              전라남도 예산군 선릉로  054-797-5796   \n",
       "8           8  조서현  83764           강원도 청주시 서원구 논현가  041-476-0500   \n",
       "9           9  최정희  42789              강원도 양평군 서초대로  042-348-9853   \n",
       "\n",
       "                        이메일  \n",
       "0     minjiyang@example.org  \n",
       "1    sangceol82@example.com  \n",
       "2     iyeongjin@example.org  \n",
       "3     eunseogim@example.org  \n",
       "4  ganggyeongja@example.org  \n",
       "5        coesiu@example.net  \n",
       "6    gojeongsug@example.com  \n",
       "7      subingim@example.org  \n",
       "8    seohyeon73@example.net  \n",
       "9      hanareum@example.net  "
      ]
     },
     "execution_count": 7,
     "metadata": {},
     "output_type": "execute_result"
    }
   ],
   "source": [
    "import pandas as pd\n",
    "\n",
    "df = pd.read_csv('./dummy_members.csv') # 주의점! 주피터노트북에서는 같은 폴더에 파일을 읽을때 \n",
    "df"
   ]
  },
  {
   "cell_type": "code",
   "execution_count": 8,
   "metadata": {},
   "outputs": [
    {
     "data": {
      "text/plain": [
       "'c:\\\\Source\\\\bigdata-python-2023\\\\Day04'"
      ]
     },
     "execution_count": 8,
     "metadata": {},
     "output_type": "execute_result"
    }
   ],
   "source": [
    "import os\n",
    "\n",
    "os.getcwd()"
   ]
  },
  {
   "attachments": {},
   "cell_type": "markdown",
   "metadata": {},
   "source": [
    "#### 출력초과 문제\n",
    "\n",
    "콘솔이나 주피터 셀출력 전체가 다 안나오는 현상(성능적 문제때문에 제약) \n",
    "\n",
    "```python\n",
    "pd.options.display.max_columns = None\n",
    "pd.options.display.max_rows = None\n",
    "```"
   ]
  },
  {
   "cell_type": "code",
   "execution_count": 14,
   "metadata": {},
   "outputs": [
    {
     "data": {
      "text/html": [
       "<div>\n",
       "<style scoped>\n",
       "    .dataframe tbody tr th:only-of-type {\n",
       "        vertical-align: middle;\n",
       "    }\n",
       "\n",
       "    .dataframe tbody tr th {\n",
       "        vertical-align: top;\n",
       "    }\n",
       "\n",
       "    .dataframe thead th {\n",
       "        text-align: right;\n",
       "    }\n",
       "</style>\n",
       "<table border=\"1\" class=\"dataframe\">\n",
       "  <thead>\n",
       "    <tr style=\"text-align: right;\">\n",
       "      <th></th>\n",
       "      <th>Unnamed: 0</th>\n",
       "      <th>이름</th>\n",
       "      <th>우편번호</th>\n",
       "      <th>주소</th>\n",
       "      <th>전화번호</th>\n",
       "      <th>이메일</th>\n",
       "    </tr>\n",
       "  </thead>\n",
       "  <tbody>\n",
       "    <tr>\n",
       "      <th>0</th>\n",
       "      <td>0</td>\n",
       "      <td>이지은</td>\n",
       "      <td>81342</td>\n",
       "      <td>울산광역시 강남구 반포대가 (은지김성동)</td>\n",
       "      <td>041-148-2973</td>\n",
       "      <td>eunjui@example.com</td>\n",
       "    </tr>\n",
       "    <tr>\n",
       "      <th>1</th>\n",
       "      <td>1</td>\n",
       "      <td>김지영</td>\n",
       "      <td>29025</td>\n",
       "      <td>광주광역시 북구 오금876거리 (준영김면)</td>\n",
       "      <td>051-740-0381</td>\n",
       "      <td>gangsiu@example.com</td>\n",
       "    </tr>\n",
       "    <tr>\n",
       "      <th>2</th>\n",
       "      <td>2</td>\n",
       "      <td>김민지</td>\n",
       "      <td>58205</td>\n",
       "      <td>충청북도 부여군 삼성거리 (준호이임읍)</td>\n",
       "      <td>063-840-2915</td>\n",
       "      <td>donghyeon55@example.net</td>\n",
       "    </tr>\n",
       "    <tr>\n",
       "      <th>3</th>\n",
       "      <td>3</td>\n",
       "      <td>김진우</td>\n",
       "      <td>52393</td>\n",
       "      <td>제주특별자치도 평창군 역삼길</td>\n",
       "      <td>010-8439-0774</td>\n",
       "      <td>yeongjajo@example.org</td>\n",
       "    </tr>\n",
       "    <tr>\n",
       "      <th>4</th>\n",
       "      <td>4</td>\n",
       "      <td>이예진</td>\n",
       "      <td>82422</td>\n",
       "      <td>광주광역시 양천구 논현072로 (정숙김마을)</td>\n",
       "      <td>054-044-6824</td>\n",
       "      <td>yeongmigim@example.com</td>\n",
       "    </tr>\n",
       "    <tr>\n",
       "      <th>...</th>\n",
       "      <td>...</td>\n",
       "      <td>...</td>\n",
       "      <td>...</td>\n",
       "      <td>...</td>\n",
       "      <td>...</td>\n",
       "      <td>...</td>\n",
       "    </tr>\n",
       "    <tr>\n",
       "      <th>9995</th>\n",
       "      <td>9995</td>\n",
       "      <td>김주원</td>\n",
       "      <td>48953</td>\n",
       "      <td>세종특별자치시 성동구 언주가</td>\n",
       "      <td>041-152-8010</td>\n",
       "      <td>ogim@example.com</td>\n",
       "    </tr>\n",
       "    <tr>\n",
       "      <th>9996</th>\n",
       "      <td>9996</td>\n",
       "      <td>신우진</td>\n",
       "      <td>99234</td>\n",
       "      <td>부산광역시 중랑구 압구정7가</td>\n",
       "      <td>042-214-8938</td>\n",
       "      <td>yunseo28@example.org</td>\n",
       "    </tr>\n",
       "    <tr>\n",
       "      <th>9997</th>\n",
       "      <td>9997</td>\n",
       "      <td>이서윤</td>\n",
       "      <td>82941</td>\n",
       "      <td>강원도 양양군 삼성로 (시우김송면)</td>\n",
       "      <td>018-316-5631</td>\n",
       "      <td>seunghyeonsong@example.org</td>\n",
       "    </tr>\n",
       "    <tr>\n",
       "      <th>9998</th>\n",
       "      <td>9998</td>\n",
       "      <td>김지혜</td>\n",
       "      <td>14762</td>\n",
       "      <td>세종특별자치시 북구 오금거리 (정숙안유리)</td>\n",
       "      <td>042-532-6638</td>\n",
       "      <td>tbag@example.com</td>\n",
       "    </tr>\n",
       "    <tr>\n",
       "      <th>9999</th>\n",
       "      <td>9999</td>\n",
       "      <td>권민지</td>\n",
       "      <td>89236</td>\n",
       "      <td>대구광역시 용산구 봉은사833거리</td>\n",
       "      <td>062-503-2515</td>\n",
       "      <td>seongmin27@example.org</td>\n",
       "    </tr>\n",
       "  </tbody>\n",
       "</table>\n",
       "<p>10000 rows × 6 columns</p>\n",
       "</div>"
      ],
      "text/plain": [
       "      Unnamed: 0   이름   우편번호                        주소           전화번호  \\\n",
       "0              0  이지은  81342    울산광역시 강남구 반포대가 (은지김성동)   041-148-2973   \n",
       "1              1  김지영  29025   광주광역시 북구 오금876거리 (준영김면)   051-740-0381   \n",
       "2              2  김민지  58205     충청북도 부여군 삼성거리 (준호이임읍)   063-840-2915   \n",
       "3              3  김진우  52393           제주특별자치도 평창군 역삼길  010-8439-0774   \n",
       "4              4  이예진  82422  광주광역시 양천구 논현072로 (정숙김마을)   054-044-6824   \n",
       "...          ...  ...    ...                       ...            ...   \n",
       "9995        9995  김주원  48953           세종특별자치시 성동구 언주가   041-152-8010   \n",
       "9996        9996  신우진  99234           부산광역시 중랑구 압구정7가   042-214-8938   \n",
       "9997        9997  이서윤  82941       강원도 양양군 삼성로 (시우김송면)   018-316-5631   \n",
       "9998        9998  김지혜  14762   세종특별자치시 북구 오금거리 (정숙안유리)   042-532-6638   \n",
       "9999        9999  권민지  89236        대구광역시 용산구 봉은사833거리   062-503-2515   \n",
       "\n",
       "                             이메일  \n",
       "0             eunjui@example.com  \n",
       "1            gangsiu@example.com  \n",
       "2        donghyeon55@example.net  \n",
       "3          yeongjajo@example.org  \n",
       "4         yeongmigim@example.com  \n",
       "...                          ...  \n",
       "9995            ogim@example.com  \n",
       "9996        yunseo28@example.org  \n",
       "9997  seunghyeonsong@example.org  \n",
       "9998            tbag@example.com  \n",
       "9999      seongmin27@example.org  \n",
       "\n",
       "[10000 rows x 6 columns]"
      ]
     },
     "execution_count": 14,
     "metadata": {},
     "output_type": "execute_result"
    }
   ],
   "source": [
    "pd.options.display.max_columns = 10\n",
    "pd.options.display.max_rows = 100\n",
    "data = pd.read_csv('./dummy_members2.csv', encoding='utf-8')\n",
    "\n",
    "data"
   ]
  }
 ],
 "metadata": {
  "kernelspec": {
   "display_name": "Python 3",
   "language": "python",
   "name": "python3"
  },
  "language_info": {
   "codemirror_mode": {
    "name": "ipython",
    "version": 3
   },
   "file_extension": ".py",
   "mimetype": "text/x-python",
   "name": "python",
   "nbconvert_exporter": "python",
   "pygments_lexer": "ipython3",
   "version": "3.11.4 (tags/v3.11.4:d2340ef, Jun  7 2023, 05:45:37) [MSC v.1934 64 bit (AMD64)]"
  },
  "orig_nbformat": 4,
  "vscode": {
   "interpreter": {
    "hash": "5238573367df39f7286bb46f9ff5f08f63a01a80960060ce41e3c79b190280fa"
   }
  }
 },
 "nbformat": 4,
 "nbformat_minor": 2
}
